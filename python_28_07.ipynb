{
  "nbformat": 4,
  "nbformat_minor": 0,
  "metadata": {
    "colab": {
      "provenance": [],
      "include_colab_link": true
    },
    "kernelspec": {
      "name": "python3",
      "display_name": "Python 3"
    },
    "language_info": {
      "name": "python"
    }
  },
  "cells": [
    {
      "cell_type": "markdown",
      "metadata": {
        "id": "view-in-github",
        "colab_type": "text"
      },
      "source": [
        "<a href=\"https://colab.research.google.com/github/naitikganvir/AlphabetAI/blob/main/python_28_07.ipynb\" target=\"_parent\"><img src=\"https://colab.research.google.com/assets/colab-badge.svg\" alt=\"Open In Colab\"/></a>"
      ]
    },
    {
      "cell_type": "markdown",
      "source": [
        "Programming Language - way to communicate or interact with machines"
      ],
      "metadata": {
        "id": "Ipg2jakL44H0"
      }
    },
    {
      "cell_type": "markdown",
      "source": [
        "PYTHON - It is a high-level programming language which is widely used in many fields such as Data Science , Web development , Cloud Infrastructure , etc.\n",
        "\n",
        "- invented by - Guido Van Rossum, in 1991\n",
        "\n",
        "- Why the name \"Python\"?\n",
        "\n",
        "-named it after his favourite show - \"Monty Python's Flying Circus\""
      ],
      "metadata": {
        "id": "Yho-chNo7Nbe"
      }
    },
    {
      "cell_type": "code",
      "execution_count": null,
      "metadata": {
        "id": "Y85FPst530PX"
      },
      "outputs": [],
      "source": [
        "# FEATURES OF PYTHON-"
      ]
    },
    {
      "cell_type": "code",
      "source": [
        "# 1- It is an interpreter Language - code will execute line by line"
      ],
      "metadata": {
        "id": "QpSCkmTY80B7"
      },
      "execution_count": null,
      "outputs": []
    },
    {
      "cell_type": "code",
      "source": [
        "print(\"Hello World\")"
      ],
      "metadata": {
        "colab": {
          "base_uri": "https://localhost:8080/"
        },
        "id": "5IhPn6R09D_9",
        "outputId": "5d5982c0-2b9e-48f4-f25c-9eeb86e4ce89"
      },
      "execution_count": null,
      "outputs": [
        {
          "output_type": "stream",
          "name": "stdout",
          "text": [
            "Hello World\n"
          ]
        }
      ]
    },
    {
      "cell_type": "code",
      "source": [
        "print(89)"
      ],
      "metadata": {
        "colab": {
          "base_uri": "https://localhost:8080/"
        },
        "id": "p1Ir4UzC9fT1",
        "outputId": "9cf7cdee-68cb-47b6-f103-41cb8d1f6aed"
      },
      "execution_count": null,
      "outputs": [
        {
          "output_type": "stream",
          "name": "stdout",
          "text": [
            "89\n"
          ]
        }
      ]
    },
    {
      "cell_type": "code",
      "source": [
        "print(\"hello\")\n",
        "print(\"mohan\")\n",
        "print(\"sahil\")\n",
        "print(\"anas\")"
      ],
      "metadata": {
        "colab": {
          "base_uri": "https://localhost:8080/"
        },
        "id": "X6jLpI8m9i10",
        "outputId": "6adf6775-c5e0-4787-8eae-eb54eadff8a4"
      },
      "execution_count": null,
      "outputs": [
        {
          "output_type": "stream",
          "name": "stdout",
          "text": [
            "hello\n",
            "mohan\n",
            "sahil\n",
            "anas\n"
          ]
        }
      ]
    },
    {
      "cell_type": "code",
      "source": [
        "# 2- Case sensitive language - (lower case (a,b,c) and upper case(A,B,C))"
      ],
      "metadata": {
        "id": "KQqaeNP0-B5r"
      },
      "execution_count": null,
      "outputs": []
    },
    {
      "cell_type": "code",
      "source": [
        "# 3 - It is an open source language - (freely available)"
      ],
      "metadata": {
        "id": "2kxB39a3-hW_"
      },
      "execution_count": null,
      "outputs": []
    },
    {
      "cell_type": "code",
      "source": [
        "# 4- It is simple - easy to learn and understand"
      ],
      "metadata": {
        "id": "YRkG3awQ-l7-"
      },
      "execution_count": null,
      "outputs": []
    },
    {
      "cell_type": "code",
      "source": [
        "# 5 - It's syntax is easy"
      ],
      "metadata": {
        "id": "dSb6tb8Q-pyj"
      },
      "execution_count": null,
      "outputs": []
    },
    {
      "cell_type": "code",
      "source": [
        "# Syntax - rule or set of rules that how to write a particular programming language."
      ],
      "metadata": {
        "id": "M9AlCoeY-xX7"
      },
      "execution_count": null,
      "outputs": []
    },
    {
      "cell_type": "code",
      "source": [
        "# 6- It is cross platform language - (unix , mac , linux)"
      ],
      "metadata": {
        "id": "myReeJXj_Bni"
      },
      "execution_count": null,
      "outputs": []
    },
    {
      "cell_type": "code",
      "source": [
        "# 7- It has multiple built in libraries- pandas , numpy , matplotlib , seaborn"
      ],
      "metadata": {
        "id": "LwY_D-34_F32"
      },
      "execution_count": null,
      "outputs": []
    },
    {
      "cell_type": "code",
      "source": [
        "# 8 - It has built in function inside this."
      ],
      "metadata": {
        "id": "X8lJjXHh_c-3"
      },
      "execution_count": null,
      "outputs": []
    },
    {
      "cell_type": "markdown",
      "source": [
        "Keywords - pre - defined or pre-reserved words which already have some special meaning or function.\n",
        "\n",
        "ex - if , else , for , and , while"
      ],
      "metadata": {
        "id": "w-kAIk623U-b"
      }
    },
    {
      "cell_type": "markdown",
      "source": [
        "VARIABLES - It is a name to which we assign some values. They act as a placeholder which holds some data."
      ],
      "metadata": {
        "id": "NysCo2Uu1Crc"
      }
    },
    {
      "cell_type": "code",
      "source": [
        "# RULES FOR WRITING NAME OF THE VARIABLE -\n"
      ],
      "metadata": {
        "id": "9RTzLb_kAB7E"
      },
      "execution_count": null,
      "outputs": []
    },
    {
      "cell_type": "markdown",
      "source": [
        "1- Variable name can be alphanumeric - (can be a combination of alphabets and digits)\n",
        "\n",
        "2- variable name can't start with a digit\n",
        "\n",
        "3- variable name can't have any special symbol except underscore(_)\n",
        "\n",
        "4- variable name can start with underscore(_)\n",
        "\n",
        "5- variable name can't be a keyword\n",
        "\n",
        "6- variable name can't have blank space in their names"
      ],
      "metadata": {
        "id": "Dgh9z4uE2sdD"
      }
    },
    {
      "cell_type": "code",
      "source": [
        "a = 5\n",
        "print(a)"
      ],
      "metadata": {
        "colab": {
          "base_uri": "https://localhost:8080/"
        },
        "id": "ejiypHQ13mr5",
        "outputId": "18b51678-89ad-4d39-af22-30ffea952033"
      },
      "execution_count": null,
      "outputs": [
        {
          "output_type": "stream",
          "name": "stdout",
          "text": [
            "5\n"
          ]
        }
      ]
    },
    {
      "cell_type": "code",
      "source": [
        "num1 = 35\n",
        "num1"
      ],
      "metadata": {
        "colab": {
          "base_uri": "https://localhost:8080/"
        },
        "id": "eVpRLI1m3rz9",
        "outputId": "c966f68b-0011-4251-f50d-b5cd8d2f746c"
      },
      "execution_count": null,
      "outputs": [
        {
          "output_type": "execute_result",
          "data": {
            "text/plain": [
              "35"
            ]
          },
          "metadata": {},
          "execution_count": 2
        }
      ]
    },
    {
      "cell_type": "code",
      "source": [
        "1abc = 67\n",
        "print(1abc)                         # error - can't start variable name with digit"
      ],
      "metadata": {
        "colab": {
          "base_uri": "https://localhost:8080/",
          "height": 106
        },
        "id": "tV2ImUP23vPB",
        "outputId": "0b78ad45-2456-4df0-b465-203e9a235dfc"
      },
      "execution_count": null,
      "outputs": [
        {
          "output_type": "error",
          "ename": "SyntaxError",
          "evalue": "invalid decimal literal (ipython-input-3-53792463.py, line 1)",
          "traceback": [
            "\u001b[0;36m  File \u001b[0;32m\"/tmp/ipython-input-3-53792463.py\"\u001b[0;36m, line \u001b[0;32m1\u001b[0m\n\u001b[0;31m    1abc = 67\u001b[0m\n\u001b[0m    ^\u001b[0m\n\u001b[0;31mSyntaxError\u001b[0m\u001b[0;31m:\u001b[0m invalid decimal literal\n"
          ]
        }
      ]
    },
    {
      "cell_type": "code",
      "source": [
        "first_name = \"Jayaseelan\"\n",
        "print(first_name)"
      ],
      "metadata": {
        "colab": {
          "base_uri": "https://localhost:8080/"
        },
        "id": "5qiaN89L33ny",
        "outputId": "2580e917-c6d9-402c-c957-24c649794e69"
      },
      "execution_count": null,
      "outputs": [
        {
          "output_type": "stream",
          "name": "stdout",
          "text": [
            "Jayaseelan\n"
          ]
        }
      ]
    },
    {
      "cell_type": "code",
      "source": [
        "%num = 99                           # error - invalid syntax\n",
        "print(%num)"
      ],
      "metadata": {
        "colab": {
          "base_uri": "https://localhost:8080/",
          "height": 106
        },
        "id": "mIKk_PEc4zJd",
        "outputId": "db07c1d3-d3d1-4c9a-8f2c-99d575f39bb5"
      },
      "execution_count": null,
      "outputs": [
        {
          "output_type": "error",
          "ename": "SyntaxError",
          "evalue": "invalid syntax (ipython-input-5-1352906451.py, line 2)",
          "traceback": [
            "\u001b[0;36m  File \u001b[0;32m\"/tmp/ipython-input-5-1352906451.py\"\u001b[0;36m, line \u001b[0;32m2\u001b[0m\n\u001b[0;31m    print(%num)\u001b[0m\n\u001b[0m          ^\u001b[0m\n\u001b[0;31mSyntaxError\u001b[0m\u001b[0;31m:\u001b[0m invalid syntax\n"
          ]
        }
      ]
    },
    {
      "cell_type": "code",
      "source": [
        "_ = \"hello\"\n",
        "print(_)"
      ],
      "metadata": {
        "colab": {
          "base_uri": "https://localhost:8080/"
        },
        "id": "T_MDWcoY45Nv",
        "outputId": "d33de591-7b63-4b61-eeb6-77eca60cacdf"
      },
      "execution_count": null,
      "outputs": [
        {
          "output_type": "stream",
          "name": "stdout",
          "text": [
            "hello\n"
          ]
        }
      ]
    },
    {
      "cell_type": "code",
      "source": [
        "if = \"python\"\n",
        "print(if)                  # error - because it is a keyword"
      ],
      "metadata": {
        "colab": {
          "base_uri": "https://localhost:8080/",
          "height": 106
        },
        "id": "O8zsBqrJ5WI6",
        "outputId": "5ce7d259-dd5c-4f06-af36-27630ec54262"
      },
      "execution_count": null,
      "outputs": [
        {
          "output_type": "error",
          "ename": "SyntaxError",
          "evalue": "invalid syntax (ipython-input-7-3705806997.py, line 1)",
          "traceback": [
            "\u001b[0;36m  File \u001b[0;32m\"/tmp/ipython-input-7-3705806997.py\"\u001b[0;36m, line \u001b[0;32m1\u001b[0m\n\u001b[0;31m    if = \"python\"\u001b[0m\n\u001b[0m       ^\u001b[0m\n\u001b[0;31mSyntaxError\u001b[0m\u001b[0;31m:\u001b[0m invalid syntax\n"
          ]
        }
      ]
    },
    {
      "cell_type": "code",
      "source": [
        "first name = \"tuesday\"\n",
        "print(first name)                      # error - because of space!!"
      ],
      "metadata": {
        "colab": {
          "base_uri": "https://localhost:8080/",
          "height": 106
        },
        "id": "QiLpTQUm5eD4",
        "outputId": "f3659282-d2f8-42ee-fe92-c3d47640e8b5"
      },
      "execution_count": null,
      "outputs": [
        {
          "output_type": "error",
          "ename": "SyntaxError",
          "evalue": "invalid syntax (ipython-input-8-4260837391.py, line 1)",
          "traceback": [
            "\u001b[0;36m  File \u001b[0;32m\"/tmp/ipython-input-8-4260837391.py\"\u001b[0;36m, line \u001b[0;32m1\u001b[0m\n\u001b[0;31m    first name = \"tuesday\"\u001b[0m\n\u001b[0m          ^\u001b[0m\n\u001b[0;31mSyntaxError\u001b[0m\u001b[0;31m:\u001b[0m invalid syntax\n"
          ]
        }
      ]
    },
    {
      "cell_type": "code",
      "source": [
        "num1 = 56\n",
        "num2 = 98\n",
        "print(num1,num2)"
      ],
      "metadata": {
        "colab": {
          "base_uri": "https://localhost:8080/"
        },
        "id": "XxDUg5DA5r1i",
        "outputId": "351c8ce2-35a7-4ec7-b657-a8c5f1817b5d"
      },
      "execution_count": null,
      "outputs": [
        {
          "output_type": "stream",
          "name": "stdout",
          "text": [
            "56 98\n"
          ]
        }
      ]
    },
    {
      "cell_type": "code",
      "source": [
        "# HOW TO TAKE USER INPUT IN PYTHON?\n",
        "# variable name = datatype(input())\n",
        "\n",
        "name = input(\"enter your name: \")\n",
        "print(name)\n",
        "age = int(input())\n",
        "print(age)"
      ],
      "metadata": {
        "colab": {
          "base_uri": "https://localhost:8080/"
        },
        "id": "srQb1Uk_54KC",
        "outputId": "b1af2263-92c3-4da3-80a7-c0c412ab93fb"
      },
      "execution_count": null,
      "outputs": [
        {
          "output_type": "stream",
          "name": "stdout",
          "text": [
            "enter your name: meenakshi\n",
            "meenakshi\n",
            "21\n",
            "21\n"
          ]
        }
      ]
    },
    {
      "cell_type": "code",
      "source": [
        "# create one variable which will take first name as user input\n",
        "# create another variable which will take second name as user input\n",
        "# print both the variables in single line\n"
      ],
      "metadata": {
        "id": "qOR0DWCT6PLk"
      },
      "execution_count": null,
      "outputs": []
    },
    {
      "cell_type": "code",
      "source": [
        "v1 = str(input(\"enter first name: \"))\n",
        "v2 = input(\"enter second name: \")\n",
        "print(v1)"
      ],
      "metadata": {
        "colab": {
          "base_uri": "https://localhost:8080/"
        },
        "id": "oOEIjtbc9ovq",
        "outputId": "e31fcb68-bd37-4c1d-f9e4-ca409460d2db"
      },
      "execution_count": null,
      "outputs": [
        {
          "output_type": "stream",
          "name": "stdout",
          "text": [
            "enter first name: xyz\n",
            "enter second name: abc\n",
            "xyz\n"
          ]
        }
      ]
    },
    {
      "cell_type": "markdown",
      "source": [
        "DATA TYPES- it tells us the type of data a variable have\n",
        "\n",
        "- Numeric - int , float , complex\n",
        "\n",
        "- Text - string\n",
        "\n",
        "- boolean\n",
        "\n",
        "HOW tO CHECK THE DATA TYPE ??\n",
        "\n",
        "- type()"
      ],
      "metadata": {
        "id": "dYTvBmKR-QKd"
      }
    },
    {
      "cell_type": "markdown",
      "source": [
        "1- Numeric Data types - everything related to numbers .\n",
        "\n",
        "- Integer - all the whole numbers - 2,3,4,88,98,-76.-8,-9 -- int\n",
        "\n",
        "- Float - all the decimal numbers - 4.5,4.89,-9.8,-7.6 -- float\n",
        "\n",
        "- Complex - expression - a+bj - 3+4j , 9+1j -- complex"
      ],
      "metadata": {
        "id": "DD8Rv0ZyCGTW"
      }
    },
    {
      "cell_type": "code",
      "source": [
        "#numeric -\n",
        "\n",
        "var1 = 9\n",
        "print(type(var1))\n",
        "var2 = -89\n",
        "print(type(var2))"
      ],
      "metadata": {
        "colab": {
          "base_uri": "https://localhost:8080/"
        },
        "id": "K9uZbJ-1-ETq",
        "outputId": "4b0aa444-15bf-4732-b54f-f09e782a7d0b"
      },
      "execution_count": null,
      "outputs": [
        {
          "output_type": "stream",
          "name": "stdout",
          "text": [
            "<class 'int'>\n",
            "<class 'int'>\n"
          ]
        }
      ]
    },
    {
      "cell_type": "code",
      "source": [
        "v1 = 9.87\n",
        "print(type(v1))"
      ],
      "metadata": {
        "colab": {
          "base_uri": "https://localhost:8080/"
        },
        "id": "0ap7n1mPC66D",
        "outputId": "4510d1e0-c581-4ea5-d595-f559eb743f31"
      },
      "execution_count": null,
      "outputs": [
        {
          "output_type": "stream",
          "name": "stdout",
          "text": [
            "<class 'float'>\n"
          ]
        }
      ]
    },
    {
      "cell_type": "code",
      "source": [
        "v2 = 6+9j\n",
        "print(v2)\n",
        "print(type(v2))"
      ],
      "metadata": {
        "colab": {
          "base_uri": "https://localhost:8080/"
        },
        "id": "fMXRZMoRDErl",
        "outputId": "c3f648fa-efa3-477a-e619-d7cc5c9d4c12"
      },
      "execution_count": null,
      "outputs": [
        {
          "output_type": "stream",
          "name": "stdout",
          "text": [
            "(6+9j)\n",
            "<class 'complex'>\n"
          ]
        }
      ]
    },
    {
      "cell_type": "markdown",
      "source": [
        "2- TEXT DATA TYPES - String - sequence of character which is enclosed in single , double or triple quotes.\n",
        "\n",
        "-- str"
      ],
      "metadata": {
        "id": "uGKNOgkkEerm"
      }
    },
    {
      "cell_type": "code",
      "source": [
        "n1 = \"hello world\"\n",
        "print(type(n1))"
      ],
      "metadata": {
        "colab": {
          "base_uri": "https://localhost:8080/"
        },
        "id": "aI3D1NPZEeVK",
        "outputId": "c0fbc4e4-89bd-4f23-c215-27f6506051cc"
      },
      "execution_count": null,
      "outputs": [
        {
          "output_type": "stream",
          "name": "stdout",
          "text": [
            "<class 'str'>\n"
          ]
        }
      ]
    },
    {
      "cell_type": "code",
      "source": [
        "n2 = 5.67\n",
        "n3 = \"9.99\"\n",
        "n4 = \"76\"\n",
        "n5 = \"87\"\n",
        "n6 = \"ananya\"\n",
        "print(type(n2))\n",
        "print(type(n3))\n",
        "print(type(n4))\n",
        "print(type(n5))\n",
        "print(type(n6))"
      ],
      "metadata": {
        "colab": {
          "base_uri": "https://localhost:8080/"
        },
        "id": "PCHwBLtHEQOE",
        "outputId": "ad8ed0ec-2465-43b9-9745-70b4522a9fba"
      },
      "execution_count": null,
      "outputs": [
        {
          "output_type": "stream",
          "name": "stdout",
          "text": [
            "<class 'float'>\n",
            "<class 'str'>\n",
            "<class 'str'>\n",
            "<class 'str'>\n",
            "<class 'str'>\n"
          ]
        }
      ]
    },
    {
      "cell_type": "code",
      "source": [
        "# Indentation - blank space or tab\n",
        "print(\"hello\")\n",
        "          print(\"abc\")            # indentation error -"
      ],
      "metadata": {
        "colab": {
          "base_uri": "https://localhost:8080/",
          "height": 106
        },
        "id": "9UJuKaUSFcKo",
        "outputId": "3cb6fcba-1d46-489a-b47d-7c5cd36e1d33"
      },
      "execution_count": null,
      "outputs": [
        {
          "output_type": "error",
          "ename": "IndentationError",
          "evalue": "unexpected indent (ipython-input-26-3829252545.py, line 3)",
          "traceback": [
            "\u001b[0;36m  File \u001b[0;32m\"/tmp/ipython-input-26-3829252545.py\"\u001b[0;36m, line \u001b[0;32m3\u001b[0m\n\u001b[0;31m    print(\"abc\")\u001b[0m\n\u001b[0m    ^\u001b[0m\n\u001b[0;31mIndentationError\u001b[0m\u001b[0;31m:\u001b[0m unexpected indent\n"
          ]
        }
      ]
    },
    {
      "cell_type": "markdown",
      "source": [
        "3- BOOLEAN DATATYPE - It is a data type which has 2 values - True or False\n",
        "\n",
        "-- bool"
      ],
      "metadata": {
        "id": "KtYHrRXcGnX7"
      }
    },
    {
      "cell_type": "code",
      "source": [
        "a = True\n",
        "print(a)\n",
        "print(type(a))"
      ],
      "metadata": {
        "colab": {
          "base_uri": "https://localhost:8080/"
        },
        "id": "wmXxxUG9GgV5",
        "outputId": "9b2510a6-5685-4094-946b-460fb4946228"
      },
      "execution_count": null,
      "outputs": [
        {
          "output_type": "stream",
          "name": "stdout",
          "text": [
            "True\n",
            "<class 'bool'>\n"
          ]
        }
      ]
    },
    {
      "cell_type": "code",
      "source": [
        "b = False\n",
        "print(b)"
      ],
      "metadata": {
        "colab": {
          "base_uri": "https://localhost:8080/"
        },
        "id": "PhO4rCu3H4ov",
        "outputId": "fd992eb5-714f-458b-b06a-7ecb0541f37c"
      },
      "execution_count": null,
      "outputs": [
        {
          "output_type": "stream",
          "name": "stdout",
          "text": [
            "False\n"
          ]
        }
      ]
    },
    {
      "cell_type": "code",
      "source": [
        "m1 = 78\n",
        "m2 = 87\n",
        "c = m1==m2\n",
        "print(c)\n",
        "print(type(c))"
      ],
      "metadata": {
        "colab": {
          "base_uri": "https://localhost:8080/"
        },
        "id": "kN3alzqmH_T4",
        "outputId": "0fb85d25-fedd-4155-dc76-e890ec4cc4ee"
      },
      "execution_count": null,
      "outputs": [
        {
          "output_type": "stream",
          "name": "stdout",
          "text": [
            "False\n",
            "<class 'bool'>\n"
          ]
        }
      ]
    },
    {
      "cell_type": "markdown",
      "source": [
        "OPERATORS - symbols which are used to perform some operations .\n",
        "\n",
        "1- Arithmetic Operators\n",
        "\n",
        "2- Comparison Operators\n",
        "\n",
        "3- Logical Operators\n",
        "\n",
        "4- Assignment Operators\n",
        "\n",
        "5- Membership Operators"
      ],
      "metadata": {
        "id": "vjnslpL9-Zdy"
      }
    },
    {
      "cell_type": "code",
      "source": [
        "# 1- ARITHMETIC OPERATORS - used to perform the mathematical calculation\n",
        "# add , sub , mul , div , modulous , floor division , exponential"
      ],
      "metadata": {
        "id": "KR6CGSADIJlI"
      },
      "execution_count": null,
      "outputs": []
    },
    {
      "cell_type": "code",
      "source": [
        "n1 = 89\n",
        "n2 = 76\n",
        "print(n1+n2)  # add\n",
        "print(n1-n2)   # subt\n",
        "print(n1*n2)   # multiplication"
      ],
      "metadata": {
        "colab": {
          "base_uri": "https://localhost:8080/"
        },
        "id": "aVaSlce9_EJI",
        "outputId": "fc19c3fc-23f6-4520-b8a3-d2a42e208e17"
      },
      "execution_count": null,
      "outputs": [
        {
          "output_type": "stream",
          "name": "stdout",
          "text": [
            "165\n",
            "13\n",
            "6764\n"
          ]
        }
      ]
    },
    {
      "cell_type": "code",
      "source": [
        "# div - (/) , floor division - (//)\n",
        "# floor division - it will give the quotient in a whole number\n",
        "a = 23\n",
        "b = 3\n",
        "print(a/b)\n",
        "print(a//b)"
      ],
      "metadata": {
        "colab": {
          "base_uri": "https://localhost:8080/"
        },
        "id": "lEK-xt2S_JDZ",
        "outputId": "845a0b1a-1bfa-452c-8db7-5e5cb8317d94"
      },
      "execution_count": null,
      "outputs": [
        {
          "output_type": "stream",
          "name": "stdout",
          "text": [
            "7.666666666666667\n",
            "7\n"
          ]
        }
      ]
    },
    {
      "cell_type": "code",
      "source": [
        "# modulus operator - % -- return the remainder value\n",
        "\n",
        "a = 17\n",
        "b = 2\n",
        "print(a%b)"
      ],
      "metadata": {
        "colab": {
          "base_uri": "https://localhost:8080/"
        },
        "id": "e24Ic8pL_kyT",
        "outputId": "877ff607-ad55-4cca-9b02-32b0c3b9c31b"
      },
      "execution_count": null,
      "outputs": [
        {
          "output_type": "stream",
          "name": "stdout",
          "text": [
            "1\n"
          ]
        }
      ]
    },
    {
      "cell_type": "code",
      "source": [
        "# exponential operator - ** -give the exponential or power value\n",
        "\n",
        "a = 7\n",
        "b = 5\n",
        "print(a**b)\n",
        "\n",
        "a = 2\n",
        "b = 3\n",
        "print(a**b)"
      ],
      "metadata": {
        "colab": {
          "base_uri": "https://localhost:8080/"
        },
        "id": "7nZ8v8kA__zr",
        "outputId": "2f434346-c655-46ee-cd76-daeea9688c89"
      },
      "execution_count": null,
      "outputs": [
        {
          "output_type": "stream",
          "name": "stdout",
          "text": [
            "16807\n",
            "8\n"
          ]
        }
      ]
    },
    {
      "cell_type": "code",
      "source": [
        "a = 4\n",
        "b = 3\n",
        "print(a**b)"
      ],
      "metadata": {
        "colab": {
          "base_uri": "https://localhost:8080/"
        },
        "id": "g40jP0aIANcK",
        "outputId": "95059c33-4468-4a26-98fd-84e286e267f1"
      },
      "execution_count": null,
      "outputs": [
        {
          "output_type": "stream",
          "name": "stdout",
          "text": [
            "64\n"
          ]
        }
      ]
    },
    {
      "cell_type": "markdown",
      "source": [
        "2- COMPARISON OPERATORS - used to compare the values .\n",
        "\n",
        "- output will be a boolean value - true or false"
      ],
      "metadata": {
        "id": "A5IxUfU0CInw"
      }
    },
    {
      "cell_type": "code",
      "source": [
        "# comparison operators -\n",
        "a1 = 67\n",
        "b1 = 90\n",
        " # == - equals to\n",
        " # != not equals to\n",
        " # <>, >=,<=\n",
        "print(a1==b1)\n",
        "print(a1!=b1)\n",
        "print(a1>b1)\n",
        "print(a1<b1)\n",
        "print(a1>=b1)\n"
      ],
      "metadata": {
        "colab": {
          "base_uri": "https://localhost:8080/"
        },
        "id": "JjNeWEF1CBIo",
        "outputId": "b0db4011-dc00-45e5-8739-ffa8444537bf"
      },
      "execution_count": null,
      "outputs": [
        {
          "output_type": "stream",
          "name": "stdout",
          "text": [
            "False\n",
            "True\n",
            "False\n",
            "True\n",
            "False\n",
            "True\n"
          ]
        }
      ]
    },
    {
      "cell_type": "markdown",
      "source": [
        "3- LOGICAL OPERATORS - used to combine multiple conditions or statements.\n",
        "\n",
        "- output will be boolean value - true or false\n",
        "\n",
        "- and\n",
        "\n",
        "- or\n",
        "\n",
        "- not"
      ],
      "metadata": {
        "id": "nyz-9YpoDlOS"
      }
    },
    {
      "cell_type": "code",
      "source": [
        "# LOGICAL OPERATORS -\n",
        "# and - return true if both the statements are true\n",
        "# or - return true if atleast one statement is true\n",
        "# not - it will the reverse the output - true - false\n",
        "\n",
        "# = assign\n",
        "# += add ,aasign\n",
        "# -= , *= , /=,//= , **=,%="
      ],
      "metadata": {
        "id": "JfYWQiusDA2O"
      },
      "execution_count": null,
      "outputs": []
    },
    {
      "cell_type": "code",
      "source": [
        "a = True\n",
        "b = False\n",
        "print(a and b)\n",
        "print(a or b)\n",
        "c = a and b\n",
        "print(c)\n",
        "print(not c)"
      ],
      "metadata": {
        "colab": {
          "base_uri": "https://localhost:8080/"
        },
        "id": "KZTQZ4uXFq13",
        "outputId": "e6e488bc-86a9-4618-f346-8cf5d037aae9"
      },
      "execution_count": null,
      "outputs": [
        {
          "output_type": "stream",
          "name": "stdout",
          "text": [
            "False\n",
            "True\n",
            "False\n",
            "True\n"
          ]
        }
      ]
    },
    {
      "cell_type": "markdown",
      "source": [
        "4- Assignment operator - used to assign or give some value to a variable."
      ],
      "metadata": {
        "id": "-9RuZtNwHVoF"
      }
    },
    {
      "cell_type": "code",
      "source": [
        "var1 = 76\n",
        "print(var1)"
      ],
      "metadata": {
        "colab": {
          "base_uri": "https://localhost:8080/"
        },
        "id": "TOafKlyBGrdP",
        "outputId": "cb17085b-73f1-4f7e-d3db-f5070234360f"
      },
      "execution_count": null,
      "outputs": [
        {
          "output_type": "stream",
          "name": "stdout",
          "text": [
            "76\n"
          ]
        }
      ]
    },
    {
      "cell_type": "code",
      "source": [
        "name = \"komal\"\n",
        "print(name)"
      ],
      "metadata": {
        "colab": {
          "base_uri": "https://localhost:8080/"
        },
        "id": "K3E5abwaHwTB",
        "outputId": "85664c81-cbdc-470f-a400-84fbaa28dbb8"
      },
      "execution_count": null,
      "outputs": [
        {
          "output_type": "stream",
          "name": "stdout",
          "text": [
            "komal\n"
          ]
        }
      ]
    },
    {
      "cell_type": "code",
      "source": [
        "var1= 10\n",
        "print(var1+10)"
      ],
      "metadata": {
        "colab": {
          "base_uri": "https://localhost:8080/"
        },
        "id": "iV-2C2eXHzKy",
        "outputId": "af16fcdf-cb3a-4ece-b42d-df92b515b56b"
      },
      "execution_count": null,
      "outputs": [
        {
          "output_type": "stream",
          "name": "stdout",
          "text": [
            "20\n"
          ]
        }
      ]
    },
    {
      "cell_type": "code",
      "source": [
        "var1+=10\n",
        "print(var1)\n",
        "a = 20\n",
        "a -=5               # a = a-5\n",
        "print(a)\n"
      ],
      "metadata": {
        "colab": {
          "base_uri": "https://localhost:8080/"
        },
        "id": "9gfzlHxiH3TN",
        "outputId": "bdc77124-9789-4ee0-d50e-3b4d05110c47"
      },
      "execution_count": null,
      "outputs": [
        {
          "output_type": "stream",
          "name": "stdout",
          "text": [
            "20\n",
            "15\n"
          ]
        }
      ]
    },
    {
      "cell_type": "markdown",
      "source": [
        "5- MEMBERSHIP OPERATORS - used to check whether a value is a member or a part of a list or not.\n",
        "\n",
        "- in\n",
        "\n",
        "- not in\n",
        "\n",
        "- output is a boolean value - true or false"
      ],
      "metadata": {
        "id": "1p6vxTVqI2zL"
      }
    },
    {
      "cell_type": "code",
      "source": [
        "name = \"pravakar\"\n",
        "print('k' in name)\n",
        "print('k' not in name)\n"
      ],
      "metadata": {
        "colab": {
          "base_uri": "https://localhost:8080/"
        },
        "id": "-Ryw13e1INtA",
        "outputId": "4fa41625-022c-4a0e-d51a-c4c08c8fdc7e"
      },
      "execution_count": null,
      "outputs": [
        {
          "output_type": "stream",
          "name": "stdout",
          "text": [
            "True\n",
            "False\n"
          ]
        }
      ]
    },
    {
      "cell_type": "code",
      "source": [
        "print('b' in name)\n",
        "print('b' not in name)"
      ],
      "metadata": {
        "colab": {
          "base_uri": "https://localhost:8080/"
        },
        "id": "3KJnWiDWKRec",
        "outputId": "5623c2a1-c85e-4713-8121-4c650878296f"
      },
      "execution_count": null,
      "outputs": [
        {
          "output_type": "stream",
          "name": "stdout",
          "text": [
            "False\n",
            "True\n"
          ]
        }
      ]
    },
    {
      "cell_type": "markdown",
      "source": [
        "Type casting - used to convert data type of one variable to another.\n",
        "\n",
        "variable_name = datatype(variable)\n",
        "\n",
        "- int() , float() , str(), list() , tuple(), set()"
      ],
      "metadata": {
        "id": "bCS5OqjmMqIe"
      }
    },
    {
      "cell_type": "code",
      "source": [
        "p1 = 182.96\n",
        "print(p1)\n",
        "print(type(p1))"
      ],
      "metadata": {
        "colab": {
          "base_uri": "https://localhost:8080/"
        },
        "id": "kwE4EdC0KiES",
        "outputId": "8b01ab45-3528-479f-91fe-a818f5b6b6c8"
      },
      "execution_count": null,
      "outputs": [
        {
          "output_type": "stream",
          "name": "stdout",
          "text": [
            "182.96\n",
            "<class 'float'>\n"
          ]
        }
      ]
    },
    {
      "cell_type": "code",
      "source": [
        "p2 = int(p1)\n",
        "print(p2)\n",
        "print(type(p2))"
      ],
      "metadata": {
        "colab": {
          "base_uri": "https://localhost:8080/"
        },
        "id": "ZLQZ2S48Nc4C",
        "outputId": "d3d11e54-5522-4697-c846-55fffd43fdbc"
      },
      "execution_count": null,
      "outputs": [
        {
          "output_type": "stream",
          "name": "stdout",
          "text": [
            "182\n",
            "<class 'int'>\n"
          ]
        }
      ]
    },
    {
      "cell_type": "code",
      "source": [
        "# take one variable as integer and convert it into float\n",
        "# take age as integer and convert it into string"
      ],
      "metadata": {
        "id": "_6J5yVnmNmJP"
      },
      "execution_count": null,
      "outputs": []
    },
    {
      "cell_type": "code",
      "source": [
        "v1 = 76\n",
        "print(type(v1))\n",
        "v2 = float(v1)\n",
        "print(v2)\n",
        "print(type(v2))"
      ],
      "metadata": {
        "colab": {
          "base_uri": "https://localhost:8080/"
        },
        "id": "5f-JyEpMOAwk",
        "outputId": "67836de9-2f3d-44e3-a1ce-856d4f3d1166"
      },
      "execution_count": null,
      "outputs": [
        {
          "output_type": "stream",
          "name": "stdout",
          "text": [
            "<class 'int'>\n",
            "76.0\n",
            "<class 'float'>\n"
          ]
        }
      ]
    },
    {
      "cell_type": "code",
      "source": [
        "age = 45\n",
        "print(type(age))\n",
        "s1 = str(age)\n",
        "print(s1)\n",
        "print(type(s1))"
      ],
      "metadata": {
        "colab": {
          "base_uri": "https://localhost:8080/"
        },
        "id": "uUk0AHplO1A5",
        "outputId": "8bbddf9d-b47d-4f40-9234-dad1dce729a8"
      },
      "execution_count": null,
      "outputs": [
        {
          "output_type": "stream",
          "name": "stdout",
          "text": [
            "<class 'int'>\n",
            "45\n",
            "<class 'str'>\n"
          ]
        }
      ]
    },
    {
      "cell_type": "markdown",
      "source": [
        "SEQUENTIAL DATA TYPES - when we have elements or values in a sequence, or\n",
        "in an ordered collection of elements .\n",
        "\n",
        "- list\n",
        "\n",
        "- tuple\n",
        "\n",
        "- string"
      ],
      "metadata": {
        "id": "i0nwt7qlPGZR"
      }
    },
    {
      "cell_type": "markdown",
      "source": [
        "1- LIST - store multiple elements in a single variable\n",
        "\n",
        "- ordered collection of elements\n",
        "\n",
        "- lists are mutable - (can change the value of list , add , remove)\n",
        "\n",
        "- accessed by indexing or slicing\n",
        "\n",
        "- list can store heterogeneous data - (value of different data type)\n",
        "\n",
        "- list can store duplicate values"
      ],
      "metadata": {
        "id": "Bm7CZey3PmB-"
      }
    },
    {
      "cell_type": "code",
      "source": [
        "l1 = [10,12,'python',1,2,4,5,'hello',5,2]\n",
        "print(l1)\n",
        "print(type(l1))"
      ],
      "metadata": {
        "colab": {
          "base_uri": "https://localhost:8080/"
        },
        "id": "6meqfgFfO9_g",
        "outputId": "54ba1ee6-a6a4-4d7f-ced0-c5456fe2ddb6"
      },
      "execution_count": null,
      "outputs": [
        {
          "output_type": "stream",
          "name": "stdout",
          "text": [
            "[10, 12, 'python', 1, 2, 4, 5, 'hello', 5, 2]\n",
            "<class 'list'>\n"
          ]
        }
      ]
    },
    {
      "cell_type": "code",
      "source": [
        "# access the elements - indexing or slicing\n",
        "# indexing - accessing a single element based on index(position)\n",
        "# In python indexing always starts from 0 - left to right\n",
        "# negative indexing starts from -1 - right to left\n",
        "l1 = [10,12,'python',1,2,4,5,'hello',5,2]\n",
        "print(l1[6])\n",
        "print(l1[-4])"
      ],
      "metadata": {
        "colab": {
          "base_uri": "https://localhost:8080/"
        },
        "id": "deVfQysHQlzK",
        "outputId": "f3f92c6f-11ab-472e-f4f7-0392d9a31831"
      },
      "execution_count": null,
      "outputs": [
        {
          "output_type": "stream",
          "name": "stdout",
          "text": [
            "5\n",
            "5\n"
          ]
        }
      ]
    },
    {
      "cell_type": "code",
      "source": [
        "l2 = [11,2,3,5,6,7,'hello','banana','python']\n",
        "# access banana\n",
        "# access value 6\n",
        "# access value python\n",
        "\n",
        "print(l2[-2])\n",
        "print(l2[4])\n",
        "print(l2[-1])"
      ],
      "metadata": {
        "colab": {
          "base_uri": "https://localhost:8080/"
        },
        "id": "f-jfemKARzX_",
        "outputId": "3b7d49bf-ddee-4a83-fb4a-89e0ab93dfc9"
      },
      "execution_count": null,
      "outputs": [
        {
          "output_type": "stream",
          "name": "stdout",
          "text": [
            "banana\n",
            "6\n",
            "python\n"
          ]
        }
      ]
    },
    {
      "cell_type": "code",
      "source": [
        "l1 = [10,20,30,40,50,60,70]\n",
        "print(l1)\n",
        "print(l1[3])\n",
        "print(l1[-4])"
      ],
      "metadata": {
        "id": "1Mjp9RsoSg4a",
        "colab": {
          "base_uri": "https://localhost:8080/"
        },
        "outputId": "87c12266-a226-4ad4-d78f-581353ee8916"
      },
      "execution_count": null,
      "outputs": [
        {
          "output_type": "stream",
          "name": "stdout",
          "text": [
            "[10, 20, 30, 40, 50, 60, 70]\n",
            "40\n",
            "40\n"
          ]
        }
      ]
    },
    {
      "cell_type": "code",
      "source": [
        "# slicing - accessing more than elements based on their index-\n",
        "# listname[start index : stop index : step]\n",
        "# step - gap between numbers\n",
        "l2 = ['apple',24,'python',88,10,67,'a','hello']\n",
        "print(l2[2:6])\n",
        "print(l2[-2:-5:-2])"
      ],
      "metadata": {
        "colab": {
          "base_uri": "https://localhost:8080/"
        },
        "id": "Hx0PkyFBYSdf",
        "outputId": "eae310ec-2466-4cbc-aa2b-7fe69b44af54"
      },
      "execution_count": null,
      "outputs": [
        {
          "output_type": "stream",
          "name": "stdout",
          "text": [
            "['python', 88, 10, 67]\n",
            "['a', 10]\n"
          ]
        }
      ]
    },
    {
      "cell_type": "code",
      "source": [
        "l2 = ['apple',24,'python',88,10,67,'a','hello']\n",
        "print(l2[-2:4:-1])"
      ],
      "metadata": {
        "colab": {
          "base_uri": "https://localhost:8080/"
        },
        "id": "IvFlTJN_ZQJg",
        "outputId": "8cf8e9a0-a24e-4780-bbd9-7ca34f678517"
      },
      "execution_count": null,
      "outputs": [
        {
          "output_type": "stream",
          "name": "stdout",
          "text": [
            "['a', 67]\n"
          ]
        }
      ]
    },
    {
      "cell_type": "code",
      "source": [
        "l2 = ['apple',24,'python',88,10,67,'a','hello']\n",
        "print(l2[-5:-2:-2])"
      ],
      "metadata": {
        "colab": {
          "base_uri": "https://localhost:8080/"
        },
        "id": "cVmx0vb5bUCr",
        "outputId": "969d35c0-e174-4c3a-aabf-7d6b14af4b86"
      },
      "execution_count": null,
      "outputs": [
        {
          "output_type": "stream",
          "name": "stdout",
          "text": [
            "[]\n"
          ]
        }
      ]
    },
    {
      "cell_type": "code",
      "source": [
        "l2 = ['apple',24,'python',88,10,67,'a','hello']\n",
        "print(l2[-2:-5:-2])"
      ],
      "metadata": {
        "colab": {
          "base_uri": "https://localhost:8080/"
        },
        "id": "iWW0gI0gb4L0",
        "outputId": "55b8d6de-14e8-481b-de1d-47ffa828b4dd"
      },
      "execution_count": null,
      "outputs": [
        {
          "output_type": "stream",
          "name": "stdout",
          "text": [
            "['a', 10]\n"
          ]
        }
      ]
    },
    {
      "cell_type": "code",
      "source": [
        "# fruits = ['apple','banana','cherry','grapes','papaya']\n",
        "# 1- output for fruits[2]\n",
        "# 2- output for fruits [-1]\n",
        "# 3- output for fruits [:3]\n",
        "# 4 - output for fruits[2:]\n",
        "# 5- reverse the list"
      ],
      "metadata": {
        "id": "275wLA_IcajD"
      },
      "execution_count": null,
      "outputs": []
    },
    {
      "cell_type": "code",
      "source": [
        "l1=[1,2,3,4,5,6,7,8,9,10]\n",
        "# print the value of 7 using indexing\n",
        "# print the  value from 2 to 6 using positive indexing\n",
        "# print the value of 4 to 8 using negative index"
      ],
      "metadata": {
        "id": "fcUe4NXg1sSe"
      },
      "execution_count": null,
      "outputs": []
    },
    {
      "cell_type": "code",
      "source": [
        "print(l1[6])\n",
        "print(l1[-4])\n",
        "print(l1[1:6:1])\n",
        "print(l1[-7:-2])"
      ],
      "metadata": {
        "colab": {
          "base_uri": "https://localhost:8080/"
        },
        "id": "a7RgJv802_Oj",
        "outputId": "15887d81-a0b9-45e6-8c60-8449cf7b73e8"
      },
      "execution_count": null,
      "outputs": [
        {
          "output_type": "stream",
          "name": "stdout",
          "text": [
            "7\n",
            "7\n",
            "[2, 3, 4, 5, 6]\n",
            "[4, 5, 6, 7, 8]\n"
          ]
        }
      ]
    },
    {
      "cell_type": "code",
      "source": [
        "v2= ['apple',24,'python',88,10,67,'a','hello']\n",
        "print(v2[0:6:2])\n",
        "print(v2[0:4:2])"
      ],
      "metadata": {
        "colab": {
          "base_uri": "https://localhost:8080/"
        },
        "id": "CMEAd5Nx3EjF",
        "outputId": "8e1a11ec-4f77-4820-9887-c6cb574058fb"
      },
      "execution_count": null,
      "outputs": [
        {
          "output_type": "stream",
          "name": "stdout",
          "text": [
            "['apple', 'python', 10]\n",
            "['apple', 'python']\n"
          ]
        }
      ]
    },
    {
      "cell_type": "code",
      "source": [
        "l1= [10,20,30,40,50,60,70]\n",
        "print(l1[5:2:-1])                   # start index- 5 - value = 60 , # end index - 2- value = 30\n",
        "print(l1[5:2:-3])"
      ],
      "metadata": {
        "colab": {
          "base_uri": "https://localhost:8080/"
        },
        "id": "HtXnVWT33_rG",
        "outputId": "30cb3da0-3b54-4be9-994f-ebb9f21a4f04"
      },
      "execution_count": null,
      "outputs": [
        {
          "output_type": "stream",
          "name": "stdout",
          "text": [
            "[60, 50, 40]\n",
            "[60]\n"
          ]
        }
      ]
    },
    {
      "cell_type": "code",
      "source": [
        "# change the elements of a list -\n",
        "\n",
        "l1 = ['python',10,20,30,'hello','list',1,2,3]\n",
        "print(l1)\n",
        "l1[4] = 'hiiiii'\n",
        "print(l1)\n",
        "\n",
        "l1[1:3] = ['ten','twenty']\n",
        "print(l1)"
      ],
      "metadata": {
        "colab": {
          "base_uri": "https://localhost:8080/"
        },
        "id": "_3-J8pb86JCJ",
        "outputId": "93d4fcfc-935d-42a2-8993-a33305541265"
      },
      "execution_count": null,
      "outputs": [
        {
          "output_type": "stream",
          "name": "stdout",
          "text": [
            "['python', 10, 20, 30, 'hello', 'list', 1, 2, 3]\n",
            "['python', 10, 20, 30, 'hiiiii', 'list', 1, 2, 3]\n",
            "['python', 'ten', 'twenty', 30, 'hiiiii', 'list', 1, 2, 3]\n"
          ]
        }
      ]
    },
    {
      "cell_type": "code",
      "source": [
        "l1 = ['python',10,20,30,'hello','list',1,2,3]\n",
        "print(l1)\n",
        "l1[5] = 'abc'\n",
        "print(l1)"
      ],
      "metadata": {
        "colab": {
          "base_uri": "https://localhost:8080/"
        },
        "id": "_KU8L-V7-yPV",
        "outputId": "52ae6628-1692-48f3-cb9a-6f362978d33a"
      },
      "execution_count": null,
      "outputs": [
        {
          "output_type": "stream",
          "name": "stdout",
          "text": [
            "['python', 10, 20, 30, 'hello', 'list', 1, 2, 3]\n",
            "['python', 10, 20, 30, 'hello', 'abc', 1, 2, 3]\n"
          ]
        }
      ]
    },
    {
      "cell_type": "code",
      "source": [
        "# len() - length of the list - total no of elements\n",
        "\n",
        "l1 = ['python',10,20,30,'hello','list',1,2,3]\n",
        "print(len(l1))\n"
      ],
      "metadata": {
        "colab": {
          "base_uri": "https://localhost:8080/"
        },
        "id": "2MwvnZgS_nPy",
        "outputId": "8f107047-07fd-42e7-d643-8d391e3bb4dd"
      },
      "execution_count": null,
      "outputs": [
        {
          "output_type": "stream",
          "name": "stdout",
          "text": [
            "9\n"
          ]
        }
      ]
    },
    {
      "cell_type": "code",
      "source": [
        "l2 = [1,2,3,4,5,6,7,'a','b','c']\n",
        "print(len(l2))"
      ],
      "metadata": {
        "colab": {
          "base_uri": "https://localhost:8080/"
        },
        "id": "n0le2BgKAVhl",
        "outputId": "2813e27f-48d6-4ec1-e5fc-16d0b1e67381"
      },
      "execution_count": null,
      "outputs": [
        {
          "output_type": "stream",
          "name": "stdout",
          "text": [
            "10\n"
          ]
        }
      ]
    },
    {
      "cell_type": "code",
      "source": [
        "# HOW TO ADD AN ELEMENT IN A LIST??\n",
        "\n",
        "# 1- append()- add a single element at the end of the list -- l2.append(value)\n",
        "l2 = [1,2,3,4,5,6,7,'a','b','c']\n",
        "print(l2)\n",
        "l2.append('d')\n",
        "print(l2)\n",
        "\n",
        "l2.append(22)\n",
        "print(l2)"
      ],
      "metadata": {
        "colab": {
          "base_uri": "https://localhost:8080/"
        },
        "id": "lLvht85aAIze",
        "outputId": "b27d147e-eeab-4c56-a90f-fa54341526c7"
      },
      "execution_count": null,
      "outputs": [
        {
          "output_type": "stream",
          "name": "stdout",
          "text": [
            "[1, 2, 3, 4, 5, 6, 7, 'a', 'b', 'c']\n",
            "[1, 2, 3, 4, 5, 6, 7, 'a', 'b', 'c', 'd']\n",
            "[1, 2, 3, 4, 5, 6, 7, 'a', 'b', 'c', 'd', 22]\n"
          ]
        }
      ]
    },
    {
      "cell_type": "code",
      "source": [
        "# 2- extend() - add more than one element at the end of the list -- list_name.extend([values])\n",
        "\n",
        "l2 = [1,2,3,4,5,6,7,'a','b','c']\n",
        "print(l2)\n",
        "l2.extend([0,'d','g','akhil','dns','time','maddy',10])\n",
        "print(l2)"
      ],
      "metadata": {
        "colab": {
          "base_uri": "https://localhost:8080/"
        },
        "id": "_LjyMageA3Pe",
        "outputId": "2a1cca86-826d-481e-fcc5-156f9b6bc864"
      },
      "execution_count": null,
      "outputs": [
        {
          "output_type": "stream",
          "name": "stdout",
          "text": [
            "[1, 2, 3, 4, 5, 6, 7, 'a', 'b', 'c']\n",
            "[1, 2, 3, 4, 5, 6, 7, 'a', 'b', 'c', 0, 'd', 'g', 'akhil', 'dns', 'time', 'maddy', 10]\n"
          ]
        }
      ]
    },
    {
      "cell_type": "code",
      "source": [
        "# 3- insert - helps you insert a value at a specific index-\n",
        "# listname.insert(position,value)\n",
        "\n",
        "l2 = [1,2,3,4,5,6,7,'a','b','c']\n",
        "print(l2)\n",
        "l2.insert(-2,'hiiii')\n",
        "print(l2)"
      ],
      "metadata": {
        "colab": {
          "base_uri": "https://localhost:8080/"
        },
        "id": "O1x7RD-qBsS8",
        "outputId": "dff78569-a1b2-494e-da20-d985966a457d"
      },
      "execution_count": null,
      "outputs": [
        {
          "output_type": "stream",
          "name": "stdout",
          "text": [
            "[1, 2, 3, 4, 5, 6, 7, 'a', 'b', 'c']\n",
            "[1, 2, 3, 4, 5, 6, 7, 'a', 'hiiii', 'b', 'c']\n"
          ]
        }
      ]
    },
    {
      "cell_type": "markdown",
      "source": [
        "- indexing slicing , change element in the list , add element"
      ],
      "metadata": {
        "id": "49ZvDC_h5NBt"
      }
    },
    {
      "cell_type": "code",
      "source": [
        "# HOW TO DELETE AN ELEMENT FROM THE LIST-\n",
        "\n",
        "# remove() - it will delete the first occurrence of the element from the list\n",
        "\n",
        "l1 = [10,11,12,10,20,30,40,50]\n",
        "print(l1)\n",
        "l1.remove(10)\n",
        "print(l1)\n",
        "l1.remove(30)\n",
        "print(l1)"
      ],
      "metadata": {
        "id": "M07t4RK4CNOC",
        "colab": {
          "base_uri": "https://localhost:8080/"
        },
        "outputId": "1d19be38-ed8b-40ee-fe2d-b2b0cfded249"
      },
      "execution_count": null,
      "outputs": [
        {
          "output_type": "stream",
          "name": "stdout",
          "text": [
            "[10, 11, 12, 10, 20, 30, 40, 50]\n",
            "[11, 12, 10, 20, 30, 40, 50]\n",
            "[11, 12, 10, 20, 40, 50]\n"
          ]
        }
      ]
    },
    {
      "cell_type": "code",
      "source": [
        "# pop() - used to delete an element from the list but at the given index\n",
        "\n",
        "l1 = [10,11,12,10,20,30,40,50]\n",
        "print(l1)\n",
        "l1.pop(3)\n",
        "print(l1)"
      ],
      "metadata": {
        "colab": {
          "base_uri": "https://localhost:8080/"
        },
        "id": "IMnziZhX5hys",
        "outputId": "7c34069c-f374-45a5-ff7f-df163b6755fa"
      },
      "execution_count": null,
      "outputs": [
        {
          "output_type": "stream",
          "name": "stdout",
          "text": [
            "[10, 11, 12, 10, 20, 30, 40, 50]\n",
            "[10, 11, 12, 20, 30, 40, 50]\n"
          ]
        }
      ]
    },
    {
      "cell_type": "code",
      "source": [
        "# clear() - it will remove all the element in the list and it will return empty list\n",
        "\n",
        "l1 = [10,11,12,10,20,30,40,50]\n",
        "print(l1)\n",
        "l1.clear()               # empty list - list without any elements\n",
        "print(l1)"
      ],
      "metadata": {
        "colab": {
          "base_uri": "https://localhost:8080/"
        },
        "id": "_hdp1eKR60yG",
        "outputId": "a8f7aba0-71a7-4b63-b392-56e9ed684e4e"
      },
      "execution_count": null,
      "outputs": [
        {
          "output_type": "stream",
          "name": "stdout",
          "text": [
            "[10, 11, 12, 10, 20, 30, 40, 50]\n",
            "[]\n"
          ]
        }
      ]
    },
    {
      "cell_type": "code",
      "source": [],
      "metadata": {
        "id": "cxHLtBdqLWlS"
      },
      "execution_count": null,
      "outputs": []
    },
    {
      "cell_type": "code",
      "source": [
        "# index() - return the index of first occurrence of an element\n",
        "\n",
        "l1 = [25,37,10,11,12,10,20,30,40,50]\n",
        "print(l1)\n",
        "print(l1.index(30))\n",
        "print(l1.index(10))\n",
        "print(l1.index(90))     # result in an error- because this value is not present in my list"
      ],
      "metadata": {
        "colab": {
          "base_uri": "https://localhost:8080/",
          "height": 228
        },
        "id": "-lDMzPMO7FKh",
        "outputId": "7c8997df-21e9-4dd8-f72e-51a21b8e7fe5"
      },
      "execution_count": null,
      "outputs": [
        {
          "output_type": "stream",
          "name": "stdout",
          "text": [
            "[25, 37, 10, 11, 12, 10, 20, 30, 40, 50]\n",
            "7\n",
            "2\n"
          ]
        },
        {
          "output_type": "error",
          "ename": "ValueError",
          "evalue": "90 is not in list",
          "traceback": [
            "\u001b[0;31m---------------------------------------------------------------------------\u001b[0m",
            "\u001b[0;31mValueError\u001b[0m                                Traceback (most recent call last)",
            "\u001b[0;32m/tmp/ipython-input-2076628116.py\u001b[0m in \u001b[0;36m<cell line: 0>\u001b[0;34m()\u001b[0m\n\u001b[1;32m      5\u001b[0m \u001b[0mprint\u001b[0m\u001b[0;34m(\u001b[0m\u001b[0ml1\u001b[0m\u001b[0;34m.\u001b[0m\u001b[0mindex\u001b[0m\u001b[0;34m(\u001b[0m\u001b[0;36m30\u001b[0m\u001b[0;34m)\u001b[0m\u001b[0;34m)\u001b[0m\u001b[0;34m\u001b[0m\u001b[0;34m\u001b[0m\u001b[0m\n\u001b[1;32m      6\u001b[0m \u001b[0mprint\u001b[0m\u001b[0;34m(\u001b[0m\u001b[0ml1\u001b[0m\u001b[0;34m.\u001b[0m\u001b[0mindex\u001b[0m\u001b[0;34m(\u001b[0m\u001b[0;36m10\u001b[0m\u001b[0;34m)\u001b[0m\u001b[0;34m)\u001b[0m\u001b[0;34m\u001b[0m\u001b[0;34m\u001b[0m\u001b[0m\n\u001b[0;32m----> 7\u001b[0;31m \u001b[0mprint\u001b[0m\u001b[0;34m(\u001b[0m\u001b[0ml1\u001b[0m\u001b[0;34m.\u001b[0m\u001b[0mindex\u001b[0m\u001b[0;34m(\u001b[0m\u001b[0;36m90\u001b[0m\u001b[0;34m)\u001b[0m\u001b[0;34m)\u001b[0m     \u001b[0;31m# result in an error- because this value is not present in my list\u001b[0m\u001b[0;34m\u001b[0m\u001b[0;34m\u001b[0m\u001b[0m\n\u001b[0m",
            "\u001b[0;31mValueError\u001b[0m: 90 is not in list"
          ]
        }
      ]
    },
    {
      "cell_type": "code",
      "source": [
        "l1 = [10,20,30]\n",
        "print(l1.index(20))"
      ],
      "metadata": {
        "colab": {
          "base_uri": "https://localhost:8080/"
        },
        "id": "0wQ7eXWJLXmv",
        "outputId": "d156b194-a2cd-42ef-a13b-f13575d57992"
      },
      "execution_count": null,
      "outputs": [
        {
          "output_type": "stream",
          "name": "stdout",
          "text": [
            "1\n"
          ]
        }
      ]
    },
    {
      "cell_type": "code",
      "source": [
        "l1=[10,20,30,20,40]\n",
        "print(l1.index(20))              # first 20 - 1 and second 20 - 3\n",
        "f1 = l1.index(20)\n",
        "print(f1)\n",
        "f2 = l1.index(20,f1+1)\n",
        "print(f2)"
      ],
      "metadata": {
        "colab": {
          "base_uri": "https://localhost:8080/"
        },
        "id": "M_UMXm2CLf5C",
        "outputId": "c37ce503-9735-4cdd-f761-4c0c8641085a"
      },
      "execution_count": null,
      "outputs": [
        {
          "output_type": "stream",
          "name": "stdout",
          "text": [
            "1\n",
            "1\n",
            "3\n"
          ]
        }
      ]
    },
    {
      "cell_type": "code",
      "source": [
        "l1 = [10,20,30,40]\n",
        "print(l1.index(40))\n",
        "print(l1.index(20))"
      ],
      "metadata": {
        "colab": {
          "base_uri": "https://localhost:8080/"
        },
        "id": "X-De_dQxAV56",
        "outputId": "ee3443b0-e58f-487d-cd82-8750a09bccb1"
      },
      "execution_count": null,
      "outputs": [
        {
          "output_type": "stream",
          "name": "stdout",
          "text": [
            "3\n",
            "1\n"
          ]
        }
      ]
    },
    {
      "cell_type": "code",
      "source": [
        "l1 = [10,11,12,10,13,14]\n",
        "print(l1.index(10))           # 1st 10 - position 0 and 2nd 10 - 3\n",
        "a = l1.index(10)\n",
        "b = l1.index(10,a+1)\n",
        "print(b)"
      ],
      "metadata": {
        "colab": {
          "base_uri": "https://localhost:8080/"
        },
        "id": "mzfJTy5hAjjK",
        "outputId": "cf91b6e7-b5b4-4ae0-da0a-eb6fc7735f32"
      },
      "execution_count": null,
      "outputs": [
        {
          "output_type": "stream",
          "name": "stdout",
          "text": [
            "0\n",
            "3\n"
          ]
        }
      ]
    },
    {
      "cell_type": "code",
      "source": [
        "\n",
        "l1 = [25,37,10,11,12,10,20,30,40,50]\n",
        "f1 = l1.index(10)\n",
        "print(f1)\n",
        "f2 = l1.index(10,f1+1)          # start searching after index1\n",
        "print(f2)"
      ],
      "metadata": {
        "colab": {
          "base_uri": "https://localhost:8080/"
        },
        "id": "bsubGNlf_PUz",
        "outputId": "840f6954-e1bd-4aea-f7e8-638eb24c2ce6"
      },
      "execution_count": null,
      "outputs": [
        {
          "output_type": "stream",
          "name": "stdout",
          "text": [
            "2\n",
            "5\n"
          ]
        }
      ]
    },
    {
      "cell_type": "code",
      "source": [
        "# create a list with 2 elements and then extend 4 elements and print the list\n",
        "# insert one element at position 3 and again print the list"
      ],
      "metadata": {
        "id": "hGzSDnyC8aUQ"
      },
      "execution_count": null,
      "outputs": []
    },
    {
      "cell_type": "code",
      "source": [
        "l1 =[1,2]\n",
        "print(l1)\n",
        "l1.extend(['a','b','c','d'])\n",
        "print(l1)"
      ],
      "metadata": {
        "colab": {
          "base_uri": "https://localhost:8080/"
        },
        "id": "PkNHtPil-jyc",
        "outputId": "40cf0a14-ff67-4bc9-cdbe-06308229544c"
      },
      "execution_count": null,
      "outputs": [
        {
          "output_type": "stream",
          "name": "stdout",
          "text": [
            "[1, 2]\n",
            "[1, 2, 'a', 'b', 'c', 'd']\n"
          ]
        }
      ]
    },
    {
      "cell_type": "code",
      "source": [
        "print(l1)\n",
        "l1.insert(3,12)\n",
        "print(l1)"
      ],
      "metadata": {
        "colab": {
          "base_uri": "https://localhost:8080/"
        },
        "id": "kQW0FRfJ-w84",
        "outputId": "5e1dd8a2-7d72-4c69-c043-cefd28bdd4df"
      },
      "execution_count": null,
      "outputs": [
        {
          "output_type": "stream",
          "name": "stdout",
          "text": [
            "[1, 2, 'a', 'b', 'c', 'd']\n",
            "[1, 2, 'a', 12, 'b', 'c', 'd']\n"
          ]
        }
      ]
    },
    {
      "cell_type": "markdown",
      "source": [
        "2- TUPLES - store multiple elements in a single variable\n",
        "\n",
        "- ordered collection of elements\n",
        "\n",
        "- immutable - (can't change the values of tuples , uneditable)\n",
        "\n",
        "- can also store duplicate values\n",
        "\n",
        "- can store values of different data types"
      ],
      "metadata": {
        "id": "geOV3c8vBrtl"
      }
    },
    {
      "cell_type": "code",
      "source": [
        "t1 = (1,2,3,4,5,6,'a','b')\n",
        "print(t1)\n",
        "print(type(t1))"
      ],
      "metadata": {
        "colab": {
          "base_uri": "https://localhost:8080/"
        },
        "id": "WeuWYahQ-2RH",
        "outputId": "6686de22-fcd0-410e-e755-1100b413ddc5"
      },
      "execution_count": null,
      "outputs": [
        {
          "output_type": "stream",
          "name": "stdout",
          "text": [
            "(1, 2, 3, 4, 5, 6, 'a', 'b')\n",
            "<class 'tuple'>\n"
          ]
        }
      ]
    },
    {
      "cell_type": "code",
      "source": [
        "# access the element in the tuples\n",
        "\n",
        "t1 = (1,2,3,4,5,6,'a','b')\n",
        "print(t1[-2])"
      ],
      "metadata": {
        "colab": {
          "base_uri": "https://localhost:8080/"
        },
        "id": "w9HzjEZsD8kN",
        "outputId": "8ca54654-5565-413c-e0bc-4088d7abd9bf"
      },
      "execution_count": null,
      "outputs": [
        {
          "output_type": "stream",
          "name": "stdout",
          "text": [
            "a\n"
          ]
        }
      ]
    },
    {
      "cell_type": "code",
      "source": [
        "t1 = (1,2,3,4,5,6,'a','b')\n",
        "# print the value 2\n",
        "# print the value 6\n",
        "print(t1[1])\n",
        "print(t1[-3])"
      ],
      "metadata": {
        "colab": {
          "base_uri": "https://localhost:8080/"
        },
        "id": "AiKAA5cxEKva",
        "outputId": "8c2016fe-4c1e-4b75-b168-550d0a7e7b72"
      },
      "execution_count": null,
      "outputs": [
        {
          "output_type": "stream",
          "name": "stdout",
          "text": [
            "2\n",
            "6\n"
          ]
        }
      ]
    },
    {
      "cell_type": "code",
      "source": [
        "# index() - return the index of first occurrence of elements\n",
        "t1 = (1,2,3,4,5,6,'a','b')\n",
        "print(t1.index('b'))"
      ],
      "metadata": {
        "colab": {
          "base_uri": "https://localhost:8080/"
        },
        "id": "ejoqqUkzEs_p",
        "outputId": "af285cb7-6864-4935-f756-993eac42c137"
      },
      "execution_count": null,
      "outputs": [
        {
          "output_type": "stream",
          "name": "stdout",
          "text": [
            "7\n"
          ]
        }
      ]
    },
    {
      "cell_type": "code",
      "source": [
        "# count() - return the number of times a value is occurring\n",
        "t1 = (1,2,3,4,5,6,'a','b')\n",
        "print(t1.count(1))"
      ],
      "metadata": {
        "colab": {
          "base_uri": "https://localhost:8080/"
        },
        "id": "ljUh0dGSE-Rb",
        "outputId": "5993f156-9ee4-4a29-b9f4-1e2ea47a0acf"
      },
      "execution_count": null,
      "outputs": [
        {
          "output_type": "stream",
          "name": "stdout",
          "text": [
            "1\n"
          ]
        }
      ]
    },
    {
      "cell_type": "code",
      "source": [
        "t2 = (1,2,3,4,5,1,2,3,1,1,1,1)\n",
        "print(t2.count(1))\n",
        "print(t2.count(5))"
      ],
      "metadata": {
        "colab": {
          "base_uri": "https://localhost:8080/"
        },
        "id": "-eZ2c-viFKBu",
        "outputId": "f2b2699f-f814-4c66-d4e4-256a3eb53e6d"
      },
      "execution_count": null,
      "outputs": [
        {
          "output_type": "stream",
          "name": "stdout",
          "text": [
            "6\n",
            "1\n"
          ]
        }
      ]
    },
    {
      "cell_type": "code",
      "source": [
        "t1 = (1,2,3,4,5,6,'a','b')\n",
        "t1[2]='abc'                             # error - because tuples are immutable"
      ],
      "metadata": {
        "colab": {
          "base_uri": "https://localhost:8080/",
          "height": 158
        },
        "id": "mUbKP-BuFP6L",
        "outputId": "3af58642-d0d6-4c50-d2f3-2e28bc4711de"
      },
      "execution_count": null,
      "outputs": [
        {
          "output_type": "error",
          "ename": "TypeError",
          "evalue": "'tuple' object does not support item assignment",
          "traceback": [
            "\u001b[0;31m---------------------------------------------------------------------------\u001b[0m",
            "\u001b[0;31mTypeError\u001b[0m                                 Traceback (most recent call last)",
            "\u001b[0;32m/tmp/ipython-input-3609115565.py\u001b[0m in \u001b[0;36m<cell line: 0>\u001b[0;34m()\u001b[0m\n\u001b[1;32m      1\u001b[0m \u001b[0mt1\u001b[0m \u001b[0;34m=\u001b[0m \u001b[0;34m(\u001b[0m\u001b[0;36m1\u001b[0m\u001b[0;34m,\u001b[0m\u001b[0;36m2\u001b[0m\u001b[0;34m,\u001b[0m\u001b[0;36m3\u001b[0m\u001b[0;34m,\u001b[0m\u001b[0;36m4\u001b[0m\u001b[0;34m,\u001b[0m\u001b[0;36m5\u001b[0m\u001b[0;34m,\u001b[0m\u001b[0;36m6\u001b[0m\u001b[0;34m,\u001b[0m\u001b[0;34m'a'\u001b[0m\u001b[0;34m,\u001b[0m\u001b[0;34m'b'\u001b[0m\u001b[0;34m)\u001b[0m\u001b[0;34m\u001b[0m\u001b[0;34m\u001b[0m\u001b[0m\n\u001b[0;32m----> 2\u001b[0;31m \u001b[0mt1\u001b[0m\u001b[0;34m[\u001b[0m\u001b[0;36m2\u001b[0m\u001b[0;34m]\u001b[0m\u001b[0;34m=\u001b[0m\u001b[0;34m'abc'\u001b[0m\u001b[0;34m\u001b[0m\u001b[0;34m\u001b[0m\u001b[0m\n\u001b[0m",
            "\u001b[0;31mTypeError\u001b[0m: 'tuple' object does not support item assignment"
          ]
        }
      ]
    },
    {
      "cell_type": "code",
      "source": [
        "# typecast tuple - list and then list to tuple\n",
        "x= 5\n",
        "y = float(x)\n",
        "# variablename = datatype(variable)\n",
        "t1 = (1,2,3,4,5,6,'a','b')\n",
        "l1 = list(t1)\n",
        "print(l1)\n",
        "print(type(l1))\n",
        "l1[2] = 'abc'\n",
        "print(l1)\n",
        "t1 = tuple(l1)\n",
        "print(t1)"
      ],
      "metadata": {
        "colab": {
          "base_uri": "https://localhost:8080/"
        },
        "id": "GRpWHlLkF5Xu",
        "outputId": "3ec0cead-5f5e-40b8-f4f5-9fb852b35395"
      },
      "execution_count": null,
      "outputs": [
        {
          "output_type": "stream",
          "name": "stdout",
          "text": [
            "[1, 2, 3, 4, 5, 6, 'a', 'b']\n",
            "<class 'list'>\n",
            "[1, 2, 'abc', 4, 5, 6, 'a', 'b']\n",
            "(1, 2, 'abc', 4, 5, 6, 'a', 'b')\n"
          ]
        }
      ]
    },
    {
      "cell_type": "markdown",
      "source": [
        "3- STRINGS- sequence of character which are enclosed in single or double quotes.\n",
        "\n",
        "- strings are immutable"
      ],
      "metadata": {
        "id": "ZoJCNHszHdxM"
      }
    },
    {
      "cell_type": "code",
      "source": [
        "s1 = \"syam\"\n",
        "print(s1)\n",
        "print(type(s1))"
      ],
      "metadata": {
        "colab": {
          "base_uri": "https://localhost:8080/"
        },
        "id": "cArvW37_GQgn",
        "outputId": "aa310b05-6321-418a-dab2-1fddfa4519da"
      },
      "execution_count": null,
      "outputs": [
        {
          "output_type": "stream",
          "name": "stdout",
          "text": [
            "syam\n",
            "<class 'str'>\n"
          ]
        }
      ]
    },
    {
      "cell_type": "code",
      "source": [
        "# access element of string -\n",
        "s1 = \"syam\"\n",
        "print(s1[2])"
      ],
      "metadata": {
        "colab": {
          "base_uri": "https://localhost:8080/"
        },
        "id": "zyFi7zjXH8Be",
        "outputId": "3eaf39fe-512b-448f-f4af-efc9a394ae88"
      },
      "execution_count": null,
      "outputs": [
        {
          "output_type": "stream",
          "name": "stdout",
          "text": [
            "a\n"
          ]
        }
      ]
    },
    {
      "cell_type": "code",
      "source": [
        "# functions\n",
        "# lower() - used to convert string into lower case\n",
        "# upper() - used to convert string into upper case\n",
        "# capitalize() - used to convert first letter - capital\n",
        "\n",
        "s1 = \"HELLO\"\n",
        "print(s1.lower())\n",
        "s2 = \"python\"\n",
        "print(s2.upper())\n",
        "print(s2.capitalize())"
      ],
      "metadata": {
        "colab": {
          "base_uri": "https://localhost:8080/"
        },
        "id": "1DPygxtyIJws",
        "outputId": "07691022-a62b-4c25-9873-f5a5352cf741"
      },
      "execution_count": null,
      "outputs": [
        {
          "output_type": "stream",
          "name": "stdout",
          "text": [
            "hello\n",
            "PYTHON\n",
            "Python\n"
          ]
        }
      ]
    },
    {
      "cell_type": "code",
      "source": [
        "# length of the string - len()\n",
        "print(len(s2))"
      ],
      "metadata": {
        "colab": {
          "base_uri": "https://localhost:8080/"
        },
        "id": "6z54pYeRIdZq",
        "outputId": "ebf7c1f1-ecf1-4554-d26e-a94bf245a2ce"
      },
      "execution_count": null,
      "outputs": [
        {
          "output_type": "stream",
          "name": "stdout",
          "text": [
            "6\n"
          ]
        }
      ]
    },
    {
      "cell_type": "code",
      "source": [
        "# strip() - remove the spaces from the string from both the ends - start and end\n",
        "\n",
        "s3 = \"    hello python    \"\n",
        "print(s3)\n",
        "print(s3.strip())\n",
        "# lstrip() - remove the spaces from left side\n",
        "# rstrip() - remove the space from right side"
      ],
      "metadata": {
        "colab": {
          "base_uri": "https://localhost:8080/"
        },
        "id": "4N2fvVAfIzBk",
        "outputId": "4dd6f7f7-13fb-458e-e1ea-2dbba96740fc"
      },
      "execution_count": null,
      "outputs": [
        {
          "output_type": "stream",
          "name": "stdout",
          "text": [
            "    hello python    \n",
            "hello python\n"
          ]
        }
      ]
    },
    {
      "cell_type": "code",
      "source": [
        "# concatenation - joining or combining of two strings -\n",
        "s1 = \"hello\"\n",
        "s2 = \"world\"\n",
        "print(s1+s2)\n",
        "print(s1+\" \"+s2)"
      ],
      "metadata": {
        "colab": {
          "base_uri": "https://localhost:8080/"
        },
        "id": "Tl3jxrXEJEFx",
        "outputId": "13fb712b-f910-4464-f7a6-a425614323bb"
      },
      "execution_count": null,
      "outputs": [
        {
          "output_type": "stream",
          "name": "stdout",
          "text": [
            "helloworld\n",
            "hello world\n"
          ]
        }
      ]
    },
    {
      "cell_type": "code",
      "source": [
        "# repetition - string*n(any number) - it will repeat that string n times\n",
        "\n",
        "s1 = \"hiii \"\n",
        "print(s1*2)\n",
        "print(s1*5)"
      ],
      "metadata": {
        "colab": {
          "base_uri": "https://localhost:8080/"
        },
        "id": "D0ac7_IUJkXD",
        "outputId": "3c7579c5-1480-4531-ef3a-82e492c93b3b"
      },
      "execution_count": null,
      "outputs": [
        {
          "output_type": "stream",
          "name": "stdout",
          "text": [
            "hiii hiii \n",
            "hiii hiii hiii hiii hiii \n"
          ]
        }
      ]
    },
    {
      "cell_type": "code",
      "source": [
        "# reverse the string using slicing -\n",
        "s1 = 'harsh'\n",
        "print(s1)\n",
        "print(s1[::-1])\n",
        "s2 = 'python'\n",
        "print(s2[::-1])"
      ],
      "metadata": {
        "id": "0cRaogG8KBhN",
        "colab": {
          "base_uri": "https://localhost:8080/"
        },
        "outputId": "f175f89d-c4db-473e-dbab-901ece034b0f"
      },
      "execution_count": null,
      "outputs": [
        {
          "output_type": "stream",
          "name": "stdout",
          "text": [
            "harsh\n",
            "hsrah\n",
            "nohtyp\n"
          ]
        }
      ]
    },
    {
      "cell_type": "code",
      "source": [
        "# create a tuple with 5 elements and print the element which is at 3 position\n",
        "# create two strings and concatenate them\n",
        "# create a string and apply repetition 4 times\n",
        "# take on string as user input and reverse the string"
      ],
      "metadata": {
        "id": "1KWrTvUoBwZi"
      },
      "execution_count": null,
      "outputs": []
    },
    {
      "cell_type": "code",
      "source": [
        "t1 = (1,2,3,4,5,6)\n",
        "print(t1[3])\n",
        "s1 = \"hello \"\n",
        "s2 = \"hii\"\n",
        "print(s1+\" \"+s2)\n",
        "print(s1*4)\n",
        "a = input()\n",
        "print(a[::-1])\n"
      ],
      "metadata": {
        "colab": {
          "base_uri": "https://localhost:8080/"
        },
        "id": "F62N9UksF8Kw",
        "outputId": "853ff936-af3e-4f7a-9ce4-acb595d6566d"
      },
      "execution_count": null,
      "outputs": [
        {
          "output_type": "stream",
          "name": "stdout",
          "text": [
            "4\n",
            "hello  hii\n",
            "hello hello hello hello \n",
            "amit\n",
            "tima\n"
          ]
        }
      ]
    },
    {
      "cell_type": "markdown",
      "source": [
        "NON - SEQUENTIAL DATATYPE - elements are not stored in the sequence or elements are not arranged in a ordered way.\n",
        "\n",
        "- set\n",
        "\n",
        "- dictionary"
      ],
      "metadata": {
        "id": "nk6Vwh9VGitB"
      }
    },
    {
      "cell_type": "markdown",
      "source": [
        "1- Set - unordered collection of distinct(unique) elements\n",
        "\n",
        "- it stores unique value - (no duplicate element is allowed)\n",
        "\n",
        "- mutable (add or remove the elememt , we can't change the elements of set)\n",
        "\n",
        "- {}"
      ],
      "metadata": {
        "id": "3faT9fDqG9Rj"
      }
    },
    {
      "cell_type": "code",
      "source": [
        "s1 = {1,2,3,4,5,6}\n",
        "print(s1)\n",
        "print(type(s1))"
      ],
      "metadata": {
        "colab": {
          "base_uri": "https://localhost:8080/"
        },
        "id": "VkB8k6LZGLLc",
        "outputId": "97c170fb-49a4-48db-ff4b-0862931ec581"
      },
      "execution_count": null,
      "outputs": [
        {
          "output_type": "stream",
          "name": "stdout",
          "text": [
            "{1, 2, 3, 4, 5, 6}\n",
            "<class 'set'>\n"
          ]
        }
      ]
    },
    {
      "cell_type": "code",
      "source": [
        "s1 = {'a','b','c','a','b','c'}\n",
        "print(s1)"
      ],
      "metadata": {
        "colab": {
          "base_uri": "https://localhost:8080/"
        },
        "id": "vJWLAiobHqmA",
        "outputId": "aada29da-6840-42dc-b23f-cde74b1b94f8"
      },
      "execution_count": null,
      "outputs": [
        {
          "output_type": "stream",
          "name": "stdout",
          "text": [
            "{'a', 'c', 'b'}\n"
          ]
        }
      ]
    },
    {
      "cell_type": "code",
      "source": [
        "s2 = {12,3,4,11,23,3}\n",
        "print(s2)"
      ],
      "metadata": {
        "colab": {
          "base_uri": "https://localhost:8080/"
        },
        "id": "JbKy54_yH3-w",
        "outputId": "9ec0cf5b-f6af-4815-87e4-7b040a3b79f2"
      },
      "execution_count": null,
      "outputs": [
        {
          "output_type": "stream",
          "name": "stdout",
          "text": [
            "{3, 4, 23, 11, 12}\n"
          ]
        }
      ]
    },
    {
      "cell_type": "code",
      "source": [
        "# add() - adds a single element in a set\n",
        "s1 = {'a','b','c','a','b','c'}\n",
        "print(s1)\n",
        "s1.add('e')\n",
        "print(s1)"
      ],
      "metadata": {
        "colab": {
          "base_uri": "https://localhost:8080/"
        },
        "id": "g_2i86ktIRb5",
        "outputId": "5b864375-2132-46cc-f598-3a22b9f13172"
      },
      "execution_count": null,
      "outputs": [
        {
          "output_type": "stream",
          "name": "stdout",
          "text": [
            "{'a', 'c', 'b'}\n",
            "{'e', 'a', 'c', 'b'}\n"
          ]
        }
      ]
    },
    {
      "cell_type": "code",
      "source": [
        "# create a set and use add function to add an element in the set also check the data type of the set you created"
      ],
      "metadata": {
        "id": "vVr9tqwMIztj"
      },
      "execution_count": null,
      "outputs": []
    },
    {
      "cell_type": "code",
      "source": [
        "s1 = {1,2,4,5,6}\n",
        "s1.add(10)\n",
        "print(s1)\n",
        "print(type(s1))"
      ],
      "metadata": {
        "colab": {
          "base_uri": "https://localhost:8080/"
        },
        "id": "b62QYaSiJ-_K",
        "outputId": "68245aee-37e5-4f2c-8b9a-d995620197ab"
      },
      "execution_count": null,
      "outputs": [
        {
          "output_type": "stream",
          "name": "stdout",
          "text": [
            "{1, 2, 4, 5, 6, 10}\n",
            "<class 'set'>\n"
          ]
        }
      ]
    },
    {
      "cell_type": "code",
      "source": [
        "# update() - used to add multiple values in a set\n",
        "# s1.update([values])\n",
        "\n",
        "s1 = {1,2,4,5,6}\n",
        "print(s1)\n",
        "s1.update([11,20,30])\n",
        "print(s1)\n"
      ],
      "metadata": {
        "colab": {
          "base_uri": "https://localhost:8080/"
        },
        "id": "2f_c9REhJ_lF",
        "outputId": "acc2be95-f751-4e5a-de08-9bd751e3ffa8"
      },
      "execution_count": null,
      "outputs": [
        {
          "output_type": "stream",
          "name": "stdout",
          "text": [
            "{1, 2, 4, 5, 6}\n",
            "{1, 2, 4, 5, 6, 20, 11, 30}\n"
          ]
        }
      ]
    },
    {
      "cell_type": "code",
      "source": [
        "s2 = {14,2,4}\n",
        "s2.update([1,4,5,6])\n",
        "print(s2)"
      ],
      "metadata": {
        "colab": {
          "base_uri": "https://localhost:8080/"
        },
        "id": "Rc3hzt86LbTY",
        "outputId": "f07ebd07-dc65-4134-f2ce-105f973c4bf1"
      },
      "execution_count": null,
      "outputs": [
        {
          "output_type": "stream",
          "name": "stdout",
          "text": [
            "{1, 2, 4, 5, 6, 14}\n"
          ]
        }
      ]
    },
    {
      "cell_type": "code",
      "source": [
        "-\n",
        "# remove() - it will remove the element , if element not found it will return error\n",
        "# s1.remove(value)\n",
        "s1 = {1,2,4,5,6}\n",
        "print(s1)\n",
        "s1.remove(4)\n",
        "print(s1)"
      ],
      "metadata": {
        "colab": {
          "base_uri": "https://localhost:8080/"
        },
        "id": "InWoqDMrL4-S",
        "outputId": "1a95f5fe-2ec3-46ee-8bdb-385e378709c9"
      },
      "execution_count": null,
      "outputs": [
        {
          "output_type": "stream",
          "name": "stdout",
          "text": [
            "{1, 2, 4, 5, 6}\n",
            "{1, 2, 5, 6}\n"
          ]
        }
      ]
    },
    {
      "cell_type": "code",
      "source": [
        "s1.remove(10)\n",
        "print(s1)                      # not present in my set"
      ],
      "metadata": {
        "colab": {
          "base_uri": "https://localhost:8080/",
          "height": 158
        },
        "id": "qnYBO2ZYMWgu",
        "outputId": "8e5cbd1d-1f69-4810-eb4b-34d7af9b7c2d"
      },
      "execution_count": null,
      "outputs": [
        {
          "output_type": "error",
          "ename": "KeyError",
          "evalue": "10",
          "traceback": [
            "\u001b[0;31m---------------------------------------------------------------------------\u001b[0m",
            "\u001b[0;31mKeyError\u001b[0m                                  Traceback (most recent call last)",
            "\u001b[0;32m/tmp/ipython-input-3188485084.py\u001b[0m in \u001b[0;36m<cell line: 0>\u001b[0;34m()\u001b[0m\n\u001b[0;32m----> 1\u001b[0;31m \u001b[0ms1\u001b[0m\u001b[0;34m.\u001b[0m\u001b[0mremove\u001b[0m\u001b[0;34m(\u001b[0m\u001b[0;36m10\u001b[0m\u001b[0;34m)\u001b[0m\u001b[0;34m\u001b[0m\u001b[0;34m\u001b[0m\u001b[0m\n\u001b[0m\u001b[1;32m      2\u001b[0m \u001b[0mprint\u001b[0m\u001b[0;34m(\u001b[0m\u001b[0ms1\u001b[0m\u001b[0;34m)\u001b[0m\u001b[0;34m\u001b[0m\u001b[0;34m\u001b[0m\u001b[0m\n",
            "\u001b[0;31mKeyError\u001b[0m: 10"
          ]
        }
      ]
    },
    {
      "cell_type": "code",
      "source": [
        "# discard() - remove an element , no error if element is not found\n",
        "\n",
        "s1 = {1,2,4,5,6}\n",
        "print(s1)\n",
        "s1.discard(5)\n",
        "print(s1)\n",
        "s1.discard(23)\n",
        "print(s1)\n",
        "s1.remove(23)\n",
        "print(s1)                  # error"
      ],
      "metadata": {
        "colab": {
          "base_uri": "https://localhost:8080/",
          "height": 245
        },
        "id": "yH2r249rMhdX",
        "outputId": "1ec93b12-8d7a-451f-814d-d2ad3bf9325f"
      },
      "execution_count": null,
      "outputs": [
        {
          "output_type": "stream",
          "name": "stdout",
          "text": [
            "{1, 2, 4, 5, 6}\n",
            "{1, 2, 4, 6}\n",
            "{1, 2, 4, 6}\n"
          ]
        },
        {
          "output_type": "error",
          "ename": "KeyError",
          "evalue": "23",
          "traceback": [
            "\u001b[0;31m---------------------------------------------------------------------------\u001b[0m",
            "\u001b[0;31mKeyError\u001b[0m                                  Traceback (most recent call last)",
            "\u001b[0;32m/tmp/ipython-input-2282031774.py\u001b[0m in \u001b[0;36m<cell line: 0>\u001b[0;34m()\u001b[0m\n\u001b[1;32m      7\u001b[0m \u001b[0ms1\u001b[0m\u001b[0;34m.\u001b[0m\u001b[0mdiscard\u001b[0m\u001b[0;34m(\u001b[0m\u001b[0;36m23\u001b[0m\u001b[0;34m)\u001b[0m\u001b[0;34m\u001b[0m\u001b[0;34m\u001b[0m\u001b[0m\n\u001b[1;32m      8\u001b[0m \u001b[0mprint\u001b[0m\u001b[0;34m(\u001b[0m\u001b[0ms1\u001b[0m\u001b[0;34m)\u001b[0m\u001b[0;34m\u001b[0m\u001b[0;34m\u001b[0m\u001b[0m\n\u001b[0;32m----> 9\u001b[0;31m \u001b[0ms1\u001b[0m\u001b[0;34m.\u001b[0m\u001b[0mremove\u001b[0m\u001b[0;34m(\u001b[0m\u001b[0;36m23\u001b[0m\u001b[0;34m)\u001b[0m\u001b[0;34m\u001b[0m\u001b[0;34m\u001b[0m\u001b[0m\n\u001b[0m\u001b[1;32m     10\u001b[0m \u001b[0mprint\u001b[0m\u001b[0;34m(\u001b[0m\u001b[0ms1\u001b[0m\u001b[0;34m)\u001b[0m\u001b[0;34m\u001b[0m\u001b[0;34m\u001b[0m\u001b[0m\n",
            "\u001b[0;31mKeyError\u001b[0m: 23"
          ]
        }
      ]
    },
    {
      "cell_type": "code",
      "source": [
        "# pop() - remove a random element from the set\n",
        "\n",
        "s1 = {1,2,4,5,6}\n",
        "print(s1)\n",
        "s1.pop()\n",
        "print(s1)\n",
        "\n"
      ],
      "metadata": {
        "colab": {
          "base_uri": "https://localhost:8080/"
        },
        "id": "bynK-qebM2Xq",
        "outputId": "44b1c7d8-8e41-4a94-d892-07b1dbe5bc83"
      },
      "execution_count": null,
      "outputs": [
        {
          "output_type": "stream",
          "name": "stdout",
          "text": [
            "{1, 2, 4, 5, 6}\n",
            "{2, 4, 5, 6}\n"
          ]
        }
      ]
    },
    {
      "cell_type": "code",
      "source": [
        "# clear()- remove all the values from the set\n",
        "s1 = {1,2,4,5,6}\n",
        "s1.clear()\n",
        "print(s1)"
      ],
      "metadata": {
        "colab": {
          "base_uri": "https://localhost:8080/"
        },
        "id": "8327lbvtNWji",
        "outputId": "77bd6928-e051-4864-8329-944c1da7b3a1"
      },
      "execution_count": null,
      "outputs": [
        {
          "output_type": "stream",
          "name": "stdout",
          "text": [
            "set()\n"
          ]
        }
      ]
    },
    {
      "cell_type": "code",
      "source": [
        "# add elements in a set and remove duplicates.\n",
        "# create one set and add 5 elements using set function then remove the element of your choice\n",
        "# clear all elements from the set and print empty set\n",
        "# s1= {1,True,False,0}\n",
        "# print(s1)   --- output??"
      ],
      "metadata": {
        "id": "CGuE1Ex3N6wS"
      },
      "execution_count": null,
      "outputs": []
    },
    {
      "cell_type": "code",
      "source": [
        "s1={1,2,5,3,4,5,6,2,1,2}\n",
        "print(s1)\n",
        "s2={1,2}\n",
        "s2.update([3,4,5,6,7])\n",
        "print(s2)\n",
        "s2.remove(5)\n",
        "print(s2)\n",
        "s2.clear()\n",
        "print(s2)"
      ],
      "metadata": {
        "colab": {
          "base_uri": "https://localhost:8080/"
        },
        "id": "JrHvvErxP3a9",
        "outputId": "5841357d-8261-4596-a409-3573fec7f93a"
      },
      "execution_count": null,
      "outputs": [
        {
          "output_type": "stream",
          "name": "stdout",
          "text": [
            "{1, 2, 3, 4, 5, 6}\n",
            "{1, 2, 3, 4, 5, 6, 7}\n",
            "{1, 2, 3, 4, 6, 7}\n",
            "set()\n"
          ]
        }
      ]
    },
    {
      "cell_type": "code",
      "source": [
        "s1={1,True,False,0}\n",
        "print(s1)\n",
        "s2 = {0,True , False,1}\n",
        "print(s2)"
      ],
      "metadata": {
        "colab": {
          "base_uri": "https://localhost:8080/"
        },
        "id": "5EJmsWc-QB7i",
        "outputId": "4e715b43-46b7-413d-d6f2-f2353ea0648a"
      },
      "execution_count": null,
      "outputs": [
        {
          "output_type": "stream",
          "name": "stdout",
          "text": [
            "{False, 1}\n",
            "{0, True}\n"
          ]
        }
      ]
    },
    {
      "cell_type": "code",
      "source": [
        "# SET OPERATIONS -\n",
        "#1 - UNION  - return the unique elements from both the sets\n",
        "# 2- INTERSECTION - common elements between 2 sets\n",
        "# 3- Differnce - s1.difference(s2)-- only s1 elements not in s2\n",
        "# s2.difference(s1)-- only s2 elementgs not in s1\n",
        "\n",
        "s1= {1,2,3,4}\n",
        "s2 = {5,6,2,3}\n",
        "print(s1.union(s2))\n",
        "print(s1.intersection(s2))\n",
        "print(s1.difference(s2))\n",
        "print(s2.difference(s1))"
      ],
      "metadata": {
        "colab": {
          "base_uri": "https://localhost:8080/"
        },
        "id": "oq4fD5PqQfsx",
        "outputId": "c518a645-0ca5-4c24-d4dd-34e068b5142d"
      },
      "execution_count": null,
      "outputs": [
        {
          "output_type": "stream",
          "name": "stdout",
          "text": [
            "{1, 2, 3, 4, 5, 6}\n",
            "{2, 3}\n",
            "{1, 4}\n",
            "{5, 6}\n"
          ]
        }
      ]
    },
    {
      "cell_type": "markdown",
      "source": [
        "DICTIONARY - it is a collection of key  value pair\n",
        "\n",
        "d1 = { 1 : 'python' , 2 : 34 , 'a': 'hello'}\n",
        "\n",
        "- each key is unique\n",
        "\n",
        "- keys are immuatble\n",
        "\n",
        "- values can be of any data type\n",
        "\n",
        "- value are mutable"
      ],
      "metadata": {
        "id": "o2PkY1G5ThBA"
      }
    },
    {
      "cell_type": "code",
      "source": [
        "d1 = { 1 : 'python' , 2 : 34 , 'a': 'hello',1:'hiiiii'} # overriding the value\n",
        "print(d1)"
      ],
      "metadata": {
        "colab": {
          "base_uri": "https://localhost:8080/"
        },
        "id": "ASnpZ-I1VOtC",
        "outputId": "d8409f02-c30e-4d7e-aae7-423b41873541"
      },
      "execution_count": null,
      "outputs": [
        {
          "output_type": "stream",
          "name": "stdout",
          "text": [
            "{1: 'hiiiii', 2: 34, 'a': 'hello'}\n"
          ]
        }
      ]
    },
    {
      "cell_type": "code",
      "source": [
        "d1 = {'name':'anas', 'age':22 , 'gender':'m'}\n",
        "print(d1)\n",
        "print(type(d1))"
      ],
      "metadata": {
        "colab": {
          "base_uri": "https://localhost:8080/"
        },
        "id": "wW_C3W0zS1CE",
        "outputId": "e3fcdb8f-bdb3-4e56-a5d7-ff5759d36696"
      },
      "execution_count": null,
      "outputs": [
        {
          "output_type": "stream",
          "name": "stdout",
          "text": [
            "{'name': 'anas', 'age': 22, 'gender': 'm'}\n",
            "<class 'dict'>\n"
          ]
        }
      ]
    },
    {
      "cell_type": "code",
      "source": [
        "d1 = {'name':['mohan','sahil','abc'],'age':21}\n",
        "print(d1)"
      ],
      "metadata": {
        "colab": {
          "base_uri": "https://localhost:8080/"
        },
        "id": "OjAfpxgGVfqT",
        "outputId": "7d6d1c96-cbe2-4da5-a8f2-3fe3d30442af"
      },
      "execution_count": null,
      "outputs": [
        {
          "output_type": "stream",
          "name": "stdout",
          "text": [
            "{'name': ['mohan', 'sahil', 'abc'], 'age': 21}\n"
          ]
        }
      ]
    },
    {
      "cell_type": "code",
      "source": [
        "# access any value\n",
        "print(d1['age'])"
      ],
      "metadata": {
        "colab": {
          "base_uri": "https://localhost:8080/"
        },
        "id": "MUApIxHlVZzG",
        "outputId": "18a24bf9-8c16-4b20-85c1-1fb916c775b4"
      },
      "execution_count": null,
      "outputs": [
        {
          "output_type": "stream",
          "name": "stdout",
          "text": [
            "22\n"
          ]
        }
      ]
    },
    {
      "cell_type": "code",
      "source": [
        "# create a dictionary with 4 values and check and print the data type\n",
        "# take two sets and perform set operations\n",
        "# 1- union\n",
        "# 2- s1.difference(s2)\n",
        "\n",
        "# create a set then add 3 values using update function\n",
        "# create a dictionary and access all the values of dictionary one by one"
      ],
      "metadata": {
        "id": "E4F5gMP4U-ZG"
      },
      "execution_count": null,
      "outputs": []
    },
    {
      "cell_type": "code",
      "source": [
        "d2 = {1:'apple','a':43,'name':'sucharitha'}\n",
        "print(d2)\n",
        "print(type(d2))"
      ],
      "metadata": {
        "colab": {
          "base_uri": "https://localhost:8080/"
        },
        "id": "H92mxrynL1pZ",
        "outputId": "fac5acf5-fd22-4ab8-ac79-88a8281cc575"
      },
      "execution_count": null,
      "outputs": [
        {
          "output_type": "stream",
          "name": "stdout",
          "text": [
            "{1: 'apple', 'a': 43, 'name': 'sucharitha'}\n",
            "<class 'dict'>\n"
          ]
        }
      ]
    },
    {
      "cell_type": "code",
      "source": [
        "# access any value from dictionary-\n",
        "d2 = {1:'apple','a':43,'name':'sucharitha'}\n",
        "print(d2['name'])"
      ],
      "metadata": {
        "colab": {
          "base_uri": "https://localhost:8080/"
        },
        "id": "MMVedNqcL_uA",
        "outputId": "9042a753-95a9-4c8a-8826-9f4a0ad7ac51"
      },
      "execution_count": null,
      "outputs": [
        {
          "output_type": "stream",
          "name": "stdout",
          "text": [
            "sucharitha\n"
          ]
        }
      ]
    },
    {
      "cell_type": "code",
      "source": [
        "# change the value\n",
        "d2 = {1:'apple','a':43,'name':'sucharitha'}\n",
        "d2['name']='pragya'\n",
        "print(d2)\n"
      ],
      "metadata": {
        "colab": {
          "base_uri": "https://localhost:8080/"
        },
        "id": "JKjCqf7VMdPI",
        "outputId": "af13b71b-bae7-4218-d404-7e72daf1b3d1"
      },
      "execution_count": null,
      "outputs": [
        {
          "output_type": "stream",
          "name": "stdout",
          "text": [
            "{1: 'apple', 'a': 43, 'name': 'pragya'}\n"
          ]
        }
      ]
    },
    {
      "cell_type": "code",
      "source": [
        "# create a dictionary student and change the value for 2 data(update the value for 2 keys) and print the updated data"
      ],
      "metadata": {
        "id": "8sDZ43wmM2I-"
      },
      "execution_count": null,
      "outputs": []
    },
    {
      "cell_type": "code",
      "source": [
        "student = {'name':'abc','age':21 ,'marks':78}\n",
        "print(student)\n",
        "student['age']=23\n",
        "student['marks']=56\n",
        "print(student)\n"
      ],
      "metadata": {
        "colab": {
          "base_uri": "https://localhost:8080/"
        },
        "id": "7YXeQOzHOy0a",
        "outputId": "c12c6f41-7511-49eb-92e7-32924b2510cc"
      },
      "execution_count": null,
      "outputs": [
        {
          "output_type": "stream",
          "name": "stdout",
          "text": [
            "{'name': 'abc', 'age': 21, 'marks': 78}\n",
            "{'name': 'abc', 'age': 23, 'marks': 56}\n"
          ]
        }
      ]
    },
    {
      "cell_type": "code",
      "source": [
        "# keys() - return all the keys in dict\n",
        "# values() - returns all the values from dict\n",
        "# items() - it will return both keys and values\n",
        "\n",
        "student = {'name':'abc','age':21 ,'marks':78}\n",
        "print(student.keys())\n",
        "print(student.values())\n",
        "print(student.items())\n"
      ],
      "metadata": {
        "colab": {
          "base_uri": "https://localhost:8080/"
        },
        "id": "AGxKip88O-Ss",
        "outputId": "dfcd2103-f66c-429f-da5e-17562578650f"
      },
      "execution_count": null,
      "outputs": [
        {
          "output_type": "stream",
          "name": "stdout",
          "text": [
            "dict_keys(['name', 'age', 'marks'])\n",
            "dict_values(['abc', 21, 78])\n",
            "dict_items([('name', 'abc'), ('age', 21), ('marks', 78)])\n"
          ]
        }
      ]
    },
    {
      "cell_type": "code",
      "source": [
        "l1 = list(student.keys())\n",
        "print(l1)\n",
        "print(type(l1))"
      ],
      "metadata": {
        "colab": {
          "base_uri": "https://localhost:8080/"
        },
        "id": "gSR45x3bPtPg",
        "outputId": "6bf0b9e1-521b-4b19-e294-d87db98451be"
      },
      "execution_count": null,
      "outputs": [
        {
          "output_type": "stream",
          "name": "stdout",
          "text": [
            "['name', 'age', 'marks']\n",
            "<class 'list'>\n"
          ]
        }
      ]
    },
    {
      "cell_type": "code",
      "source": [
        "student = {'name':'abc','age':21 ,'marks':78}\n",
        "student['marks']=89\n",
        "print(student)"
      ],
      "metadata": {
        "colab": {
          "base_uri": "https://localhost:8080/"
        },
        "id": "HO3866sLWGV1",
        "outputId": "1c65cc48-1dbb-4635-887b-75c82deb6d30"
      },
      "execution_count": null,
      "outputs": [
        {
          "output_type": "stream",
          "name": "stdout",
          "text": [
            "{'name': 'abc', 'age': 21, 'marks': 89}\n"
          ]
        }
      ]
    },
    {
      "cell_type": "code",
      "source": [
        "# to get the value of dictionary-\n",
        "# get() - access the values\n",
        "# d1.get(key)\n",
        "student = {'name':'abc','age':21 ,'marks':78}\n",
        "print(student.get('marks'))"
      ],
      "metadata": {
        "colab": {
          "base_uri": "https://localhost:8080/"
        },
        "id": "8eD8CWFzQyeE",
        "outputId": "28efed1a-770e-418c-efe5-81a9e749d0b7"
      },
      "execution_count": null,
      "outputs": [
        {
          "output_type": "stream",
          "name": "stdout",
          "text": [
            "78\n"
          ]
        }
      ]
    },
    {
      "cell_type": "code",
      "source": [
        "# add multiple values in a dictionary-\n",
        "# update() - multiple values or merge dictionaries\n",
        "student = {'name':'abc','age':21 ,'marks':78}\n",
        "print(student)\n",
        "student.update({'name':'hello','id':101,'abc':'python world'})\n",
        "print(student)"
      ],
      "metadata": {
        "colab": {
          "base_uri": "https://localhost:8080/"
        },
        "id": "JzQp3G7GRN3t",
        "outputId": "7f8a8663-c081-4d1a-a014-da55b65b0bc3"
      },
      "execution_count": null,
      "outputs": [
        {
          "output_type": "stream",
          "name": "stdout",
          "text": [
            "{'name': 'abc', 'age': 21, 'marks': 78}\n",
            "{'name': 'hello', 'age': 21, 'marks': 78, 'id': 101, 'abc': 'python world'}\n"
          ]
        }
      ]
    },
    {
      "cell_type": "code",
      "source": [
        "# DELETE ANY VALUE FROM DICTIONARY???\n",
        "# pop() - remove and return the value\n",
        "# d1.pop('key name')\n",
        "student = {'name':'abc','age':21 ,'marks':78}\n",
        "print(student)\n",
        "print(student.pop('age'))\n",
        "print(student)"
      ],
      "metadata": {
        "colab": {
          "base_uri": "https://localhost:8080/"
        },
        "id": "4RN_I44kSJ9t",
        "outputId": "7b202531-eba6-43c5-8758-9532ec4753bd"
      },
      "execution_count": null,
      "outputs": [
        {
          "output_type": "stream",
          "name": "stdout",
          "text": [
            "{'name': 'abc', 'age': 21, 'marks': 78}\n",
            "21\n",
            "{'name': 'abc', 'marks': 78}\n"
          ]
        }
      ]
    },
    {
      "cell_type": "code",
      "source": [
        "# popitem() - remove and returns the last inserted pair\n",
        "student = {'name':'abc','age':21 ,'marks':78}\n",
        "print(student)\n",
        "print(student.popitem())\n",
        "print(student)"
      ],
      "metadata": {
        "colab": {
          "base_uri": "https://localhost:8080/"
        },
        "id": "OR2QaJeOSffD",
        "outputId": "08647335-4c1a-49ca-fd07-b7b9e77cd1c7"
      },
      "execution_count": null,
      "outputs": [
        {
          "output_type": "stream",
          "name": "stdout",
          "text": [
            "{'name': 'abc', 'age': 21, 'marks': 78}\n",
            "('marks', 78)\n",
            "{'name': 'abc', 'age': 21}\n"
          ]
        }
      ]
    },
    {
      "cell_type": "code",
      "source": [
        "# clear() - remove all the data from dictionary and it will return empty dict\n",
        "student = {'name':'abc','age':21 ,'marks':78}\n",
        "print(student)\n",
        "student.clear()\n",
        "print(student)"
      ],
      "metadata": {
        "colab": {
          "base_uri": "https://localhost:8080/"
        },
        "id": "7cdLrbiATJuP",
        "outputId": "949212d4-be7d-440a-9580-c6f40f385ae6"
      },
      "execution_count": null,
      "outputs": [
        {
          "output_type": "stream",
          "name": "stdout",
          "text": [
            "{'name': 'abc', 'age': 21, 'marks': 78}\n",
            "{}\n"
          ]
        }
      ]
    },
    {
      "cell_type": "code",
      "source": [
        "# 1- create a dictionary with name , age , city\n",
        "#  2- update your city to \"Bangalore\"\n",
        "# 3- print all the  - (a) - keys , (b) - values\n",
        "# 4- delete age from dictionary\n",
        "# 5- add 2 new values in the dictionary and print it\n",
        "# 6- remove the last value from the dict and print new dict"
      ],
      "metadata": {
        "id": "HbEmzKQuTqJu"
      },
      "execution_count": null,
      "outputs": []
    },
    {
      "cell_type": "code",
      "source": [
        "d1 = {'name':'abc','age':20 , 'city':'mumbai'}\n",
        "d1['city']='bangalore'\n",
        "print(d1)\n",
        "print(d1.keys())\n",
        "print(d1.values())\n",
        "print(d1.pop('age'))\n",
        "print(d1)\n",
        "d1.update({1:101,2:'hiiiii'})\n",
        "print(d1)\n",
        "d1.popitem()\n",
        "print(d1)"
      ],
      "metadata": {
        "colab": {
          "base_uri": "https://localhost:8080/"
        },
        "id": "ZGGO_rodZAwf",
        "outputId": "01a51fbd-6b81-46f9-b0ce-9614584b0f72"
      },
      "execution_count": null,
      "outputs": [
        {
          "output_type": "stream",
          "name": "stdout",
          "text": [
            "{'name': 'abc', 'age': 20, 'city': 'bangalore'}\n",
            "dict_keys(['name', 'age', 'city'])\n",
            "dict_values(['abc', 20, 'bangalore'])\n",
            "20\n",
            "{'name': 'abc', 'city': 'bangalore'}\n",
            "{'name': 'abc', 'city': 'bangalore', 1: 101, 2: 'hiiiii'}\n",
            "{'name': 'abc', 'city': 'bangalore', 1: 101}\n"
          ]
        }
      ]
    },
    {
      "cell_type": "code",
      "source": [
        "# can i give list and tuple to values???\n",
        "d1 = {'name':['sahil','anurag','mohan','roshan'],'age':21,'gender':'m'}\n",
        "print(d1)"
      ],
      "metadata": {
        "colab": {
          "base_uri": "https://localhost:8080/"
        },
        "id": "oyP1WVAQZGtW",
        "outputId": "3db0f983-90f6-48b5-a1ae-60c34f09ce79"
      },
      "execution_count": null,
      "outputs": [
        {
          "output_type": "stream",
          "name": "stdout",
          "text": [
            "{'name': ['sahil', 'anurag', 'mohan', 'roshan'], 'age': 21, 'gender': 'm'}\n"
          ]
        }
      ]
    },
    {
      "cell_type": "code",
      "source": [
        "# access??\n",
        "print(d1['name'])"
      ],
      "metadata": {
        "colab": {
          "base_uri": "https://localhost:8080/"
        },
        "id": "JMXhDHgfaARA",
        "outputId": "a1b5ca6f-bd07-4a30-d63e-2c512e565e93"
      },
      "execution_count": null,
      "outputs": [
        {
          "output_type": "stream",
          "name": "stdout",
          "text": [
            "['sahil', 'anurag', 'mohan', 'roshan']\n"
          ]
        }
      ]
    },
    {
      "cell_type": "code",
      "source": [
        "print(d1['name'][2])"
      ],
      "metadata": {
        "colab": {
          "base_uri": "https://localhost:8080/"
        },
        "id": "A7RuTPBdaKdO",
        "outputId": "ca281233-7009-437c-816a-10a239b0d854"
      },
      "execution_count": null,
      "outputs": [
        {
          "output_type": "stream",
          "name": "stdout",
          "text": [
            "mohan\n"
          ]
        }
      ]
    },
    {
      "cell_type": "code",
      "source": [
        "# create a dict with name , age , city - age and city are having 3 values stored as tuple\n",
        "# access 2 value from age and 1 value from city"
      ],
      "metadata": {
        "id": "ULJHf1jsaZ_i"
      },
      "execution_count": null,
      "outputs": []
    },
    {
      "cell_type": "code",
      "source": [
        "prac_dicts={'name': 'Jack',\n",
        "    'age' : (12,13,14),\n",
        "    'city' : (\"Ktm\", \"Bhaktapur\", \"Lalitpur\")\n",
        "}\n",
        "\n",
        "print(prac_dicts[\"age\"][1])\n",
        "print(prac_dicts[\"city\"][0])"
      ],
      "metadata": {
        "colab": {
          "base_uri": "https://localhost:8080/"
        },
        "id": "pPPa1E-wckVA",
        "outputId": "9a94f11d-f15f-4253-a97f-153c995db9b8"
      },
      "execution_count": null,
      "outputs": [
        {
          "output_type": "stream",
          "name": "stdout",
          "text": [
            "13\n",
            "Ktm\n"
          ]
        }
      ]
    },
    {
      "cell_type": "code",
      "source": [
        "# city are having 3 values stored as tuple\n",
        "d3={'name':'varun','age':(22,23,24),'city':('delhi','bangalore','mumbai')}\n",
        "print(d3)\n"
      ],
      "metadata": {
        "colab": {
          "base_uri": "https://localhost:8080/"
        },
        "id": "7srtTN-6cpSa",
        "outputId": "b7add897-ca4a-438d-c05a-5d14b540632e"
      },
      "execution_count": null,
      "outputs": [
        {
          "output_type": "stream",
          "name": "stdout",
          "text": [
            "{'name': 'varun', 'age': (22, 23, 24), 'city': ('delhi', 'bangalore', 'mumbai')}\n"
          ]
        }
      ]
    },
    {
      "cell_type": "code",
      "source": [
        "# access 2 value from age and 1 value from city\n",
        "print(d3['age'][1])\n",
        "print(d3['city'][0])"
      ],
      "metadata": {
        "colab": {
          "base_uri": "https://localhost:8080/"
        },
        "id": "9-pFmDnNdf5i",
        "outputId": "d5d79b74-7669-43e2-b5e3-9e68ec226824"
      },
      "execution_count": null,
      "outputs": [
        {
          "output_type": "stream",
          "name": "stdout",
          "text": [
            "23\n",
            "delhi\n"
          ]
        }
      ]
    },
    {
      "cell_type": "markdown",
      "source": [
        "Conditional Statement - used to make decision based on some condition or criteria.\n",
        "\n",
        "- if (condition):\n",
        "\n",
        "- elif (condition):\n",
        "\n",
        "- else:\n",
        "\n"
      ],
      "metadata": {
        "id": "bTeThNwyxZhM"
      }
    },
    {
      "cell_type": "code",
      "source": [
        "# Syntax-\n",
        "\n",
        "# simple if\n",
        "# if (condition):\n",
        "        # run if condition is True\n",
        "\n",
        "\n",
        "# if - else.............................\n",
        "\n",
        "# if(condition):\n",
        "                # run if the condition is True\n",
        "\n",
        "\n",
        "# else:\n",
        "    # if is false then else\n",
        "\n",
        "# if elif else.............\n",
        "\n",
        "# if(condition):\n",
        "             # run if the condition is true\n",
        "\n",
        "\n",
        "# elif (condition):\n",
        "               # run if the elif condition is true\n",
        "\n",
        "\n",
        "# elif (condition):\n",
        "#.\n",
        "\n",
        "\n",
        "# else:\n",
        "                   # print('by default')\n",
        "\n",
        "\n",
        "\n",
        "\n",
        "\n",
        "\n",
        "\n"
      ],
      "metadata": {
        "id": "OKrhSTe9dzc8"
      },
      "execution_count": null,
      "outputs": []
    },
    {
      "cell_type": "code",
      "source": [
        "# if marks >35 - student is pass\n",
        "\n",
        "marks = int(input())\n",
        "if(marks>35):\n",
        "  print(\"pass\")\n"
      ],
      "metadata": {
        "colab": {
          "base_uri": "https://localhost:8080/"
        },
        "id": "Qo0co-BV03RA",
        "outputId": "90d91fc4-ce99-49ff-b170-e379923cea15"
      },
      "execution_count": null,
      "outputs": [
        {
          "name": "stdout",
          "output_type": "stream",
          "text": [
            "23\n"
          ]
        }
      ]
    },
    {
      "cell_type": "code",
      "source": [
        "# if - else...\n",
        "\n",
        "marks = int(input())\n",
        "if(marks>35):\n",
        "  print(\"pass\")\n",
        "\n",
        "else:\n",
        "  print(\"fail\")\n"
      ],
      "metadata": {
        "colab": {
          "base_uri": "https://localhost:8080/"
        },
        "id": "21fYLcY21G4n",
        "outputId": "f1eee918-0374-47ed-af6c-78ea70ef41e2"
      },
      "execution_count": null,
      "outputs": [
        {
          "output_type": "stream",
          "name": "stdout",
          "text": [
            "34\n",
            "fail\n"
          ]
        }
      ]
    },
    {
      "cell_type": "code",
      "source": [
        "# write a if else statement to check whether a person is eligible to vote or not-"
      ],
      "metadata": {
        "id": "gXTwXeGh12LF"
      },
      "execution_count": null,
      "outputs": []
    },
    {
      "cell_type": "code",
      "source": [
        "age = int(input())\n",
        "if(age>=18):\n",
        "  print(\"eligible!!!!!\")\n",
        "\n",
        "else:\n",
        "  print(\"not eligible!!!!!\")"
      ],
      "metadata": {
        "colab": {
          "base_uri": "https://localhost:8080/"
        },
        "id": "cN2a7Qtc429T",
        "outputId": "8f6d4d7a-d743-4eea-e173-429b937d261b"
      },
      "execution_count": null,
      "outputs": [
        {
          "output_type": "stream",
          "name": "stdout",
          "text": [
            "45\n",
            "eligible!!!!!\n"
          ]
        }
      ]
    },
    {
      "cell_type": "code",
      "source": [
        "age = int(input(\"enter age: \"))\n",
        "if age>=18:\n",
        "  print(\"yes\")\n",
        "else:\n",
        "  print(\"no\")"
      ],
      "metadata": {
        "colab": {
          "base_uri": "https://localhost:8080/"
        },
        "id": "fk_OGcpL7bW6",
        "outputId": "1f7b16b2-9bfe-4a9b-faa5-cfe8e86ec072"
      },
      "execution_count": null,
      "outputs": [
        {
          "output_type": "stream",
          "name": "stdout",
          "text": [
            "enter age: 65\n",
            "yes\n"
          ]
        }
      ]
    },
    {
      "cell_type": "code",
      "source": [
        "age = 10\n",
        "print(\"age is\",age)\n",
        "\n",
        "# formatting -\n",
        "print(f\"age is {age}\")\n"
      ],
      "metadata": {
        "colab": {
          "base_uri": "https://localhost:8080/"
        },
        "id": "6FqftnS88Dbh",
        "outputId": "89bfec2e-d39f-407f-90f8-80c6b4b0503d"
      },
      "execution_count": null,
      "outputs": [
        {
          "output_type": "stream",
          "name": "stdout",
          "text": [
            "age is 10\n",
            "age is 10\n"
          ]
        }
      ]
    },
    {
      "cell_type": "code",
      "source": [
        "# check whether a number is even or odd-"
      ],
      "metadata": {
        "id": "nlZ2Fut95UsB"
      },
      "execution_count": null,
      "outputs": []
    },
    {
      "cell_type": "code",
      "source": [
        "num = int(input())\n",
        "if(num%2==0):\n",
        "  print(\"even number\")\n",
        "\n",
        "else:\n",
        "  print(\"odd number\")"
      ],
      "metadata": {
        "colab": {
          "base_uri": "https://localhost:8080/"
        },
        "id": "UaY8pRfR8oWH",
        "outputId": "c5ce7fda-61f7-44cb-be9f-584906570872"
      },
      "execution_count": null,
      "outputs": [
        {
          "output_type": "stream",
          "name": "stdout",
          "text": [
            "5\n",
            "odd number\n"
          ]
        }
      ]
    },
    {
      "cell_type": "code",
      "source": [
        "type(age)"
      ],
      "metadata": {
        "colab": {
          "base_uri": "https://localhost:8080/"
        },
        "id": "6J8gcH989Rk4",
        "outputId": "09526f74-6ea2-4195-bad2-f97e46a691ef"
      },
      "execution_count": null,
      "outputs": [
        {
          "output_type": "execute_result",
          "data": {
            "text/plain": [
              "int"
            ]
          },
          "metadata": {},
          "execution_count": 13
        }
      ]
    },
    {
      "cell_type": "code",
      "source": [
        "# whether a number is positive, negative or zero"
      ],
      "metadata": {
        "id": "SlSsBYne9zhP"
      },
      "execution_count": null,
      "outputs": []
    },
    {
      "cell_type": "code",
      "source": [
        "num = int(input())\n",
        "if(num>0):\n",
        "  print(\"positive\")\n",
        "\n",
        "elif(num==0):\n",
        "  print(\"zero\")\n",
        "\n",
        "else:\n",
        "  print(\"negative\")"
      ],
      "metadata": {
        "colab": {
          "base_uri": "https://localhost:8080/"
        },
        "id": "0_eT3blp_wS9",
        "outputId": "f1aaf1b8-0ec9-4b76-b067-ca9828e3d8e2"
      },
      "execution_count": null,
      "outputs": [
        {
          "output_type": "stream",
          "name": "stdout",
          "text": [
            "6\n",
            "positive\n"
          ]
        }
      ]
    },
    {
      "cell_type": "markdown",
      "source": [
        "LOOPS - used to repeat a block of code multiple times.\n",
        "\n",
        "- Instead of writing the same code again and again , you tell python-\n",
        "\n",
        "\n",
        "keep doing the thing , until i say you stop.\n",
        "\n"
      ],
      "metadata": {
        "id": "FQjWR-N7AxR_"
      }
    },
    {
      "cell_type": "code",
      "source": [
        "# TYPES OF LOOPS -\n",
        "\n",
        "#1- FOR LOOP- used when you know how many times you want to repeat something.\n",
        "# for expression.......\n"
      ],
      "metadata": {
        "id": "hd0OwNVaANI5"
      },
      "execution_count": null,
      "outputs": []
    },
    {
      "cell_type": "code",
      "source": [
        "# without loop -\n",
        "print(1)\n",
        "print(2)\n",
        "print(3)\n",
        "print(4)\n",
        "print(5)\n",
        "print(6)"
      ],
      "metadata": {
        "colab": {
          "base_uri": "https://localhost:8080/"
        },
        "id": "Fsi3bOMvC9ij",
        "outputId": "196f4e67-2598-4f94-c075-13100fe089d3"
      },
      "execution_count": null,
      "outputs": [
        {
          "output_type": "stream",
          "name": "stdout",
          "text": [
            "1\n",
            "2\n",
            "3\n",
            "4\n",
            "5\n",
            "6\n"
          ]
        }
      ]
    },
    {
      "cell_type": "code",
      "source": [
        "# with loop -\n",
        "for i in range(1,11):\n",
        "  print(i)"
      ],
      "metadata": {
        "colab": {
          "base_uri": "https://localhost:8080/"
        },
        "id": "PuQbMCyFDFW7",
        "outputId": "4ea0d6d0-3e8d-495a-c10c-62d56b967850"
      },
      "execution_count": null,
      "outputs": [
        {
          "output_type": "stream",
          "name": "stdout",
          "text": [
            "1\n",
            "2\n",
            "3\n",
            "4\n",
            "5\n",
            "6\n",
            "7\n",
            "8\n",
            "9\n",
            "10\n"
          ]
        }
      ]
    },
    {
      "cell_type": "code",
      "source": [
        "# print numbers from 0 to 25\n",
        "for i in range(0,26):\n",
        "  print(i)\n"
      ],
      "metadata": {
        "colab": {
          "base_uri": "https://localhost:8080/"
        },
        "id": "gxHGIuKyDkQg",
        "outputId": "39b11b01-716d-449c-a15d-e32a87decb98"
      },
      "execution_count": null,
      "outputs": [
        {
          "output_type": "stream",
          "name": "stdout",
          "text": [
            "0\n",
            "1\n",
            "2\n",
            "3\n",
            "4\n",
            "5\n",
            "6\n",
            "7\n",
            "8\n",
            "9\n",
            "10\n",
            "11\n",
            "12\n",
            "13\n",
            "14\n",
            "15\n",
            "16\n",
            "17\n",
            "18\n",
            "19\n",
            "20\n",
            "21\n",
            "22\n",
            "23\n",
            "24\n",
            "25\n"
          ]
        }
      ]
    },
    {
      "cell_type": "code",
      "source": [
        "# taking an input n as a number and you have to print all the numbers till n\n",
        "n= int(input())\n",
        "for i in range(0,n-1):\n",
        "  print(i)\n"
      ],
      "metadata": {
        "colab": {
          "base_uri": "https://localhost:8080/"
        },
        "id": "b32HTHVuETYU",
        "outputId": "76d39969-9f94-46d0-c107-e472f9ac8a57"
      },
      "execution_count": null,
      "outputs": [
        {
          "output_type": "stream",
          "name": "stdout",
          "text": [
            "25\n",
            "0\n",
            "1\n",
            "2\n",
            "3\n",
            "4\n",
            "5\n",
            "6\n",
            "7\n",
            "8\n",
            "9\n",
            "10\n",
            "11\n",
            "12\n",
            "13\n",
            "14\n",
            "15\n",
            "16\n",
            "17\n",
            "18\n",
            "19\n",
            "20\n",
            "21\n",
            "22\n",
            "23\n"
          ]
        }
      ]
    },
    {
      "cell_type": "code",
      "source": [
        "num = int(input())\n",
        "if(num%2==0):\n",
        "  print(\"even number\")\n",
        "else:\n",
        "  print(\"odd number\")"
      ],
      "metadata": {
        "colab": {
          "base_uri": "https://localhost:8080/"
        },
        "id": "Tl7EJIet75b0",
        "outputId": "42a8c5d7-54b3-4af9-8bbd-6ce581af6f99"
      },
      "execution_count": null,
      "outputs": [
        {
          "output_type": "stream",
          "name": "stdout",
          "text": [
            "45\n",
            "odd number\n"
          ]
        }
      ]
    },
    {
      "cell_type": "code",
      "source": [
        "# homework\n",
        "# using for loop print the table of any number"
      ],
      "metadata": {
        "id": "VW_n54G1FW2N"
      },
      "execution_count": null,
      "outputs": []
    },
    {
      "cell_type": "code",
      "source": [
        "n = int(input())\n",
        "for i in range(1,11):\n",
        " # print(f\"{n} x {i} = {n*i}\")\n",
        "   print(n*i)"
      ],
      "metadata": {
        "colab": {
          "base_uri": "https://localhost:8080/"
        },
        "id": "ziXZCT-p8IcZ",
        "outputId": "060c2a3c-dfa3-4eec-a605-598317bfc5a3"
      },
      "execution_count": null,
      "outputs": [
        {
          "output_type": "stream",
          "name": "stdout",
          "text": [
            "5\n",
            "5\n",
            "10\n",
            "15\n",
            "20\n",
            "25\n",
            "30\n",
            "35\n",
            "40\n",
            "45\n",
            "50\n"
          ]
        }
      ]
    },
    {
      "cell_type": "code",
      "source": [
        "l1 = ['a','b','c','d','e','f','g']\n",
        "# iterate and print every element from this list using for loop\n",
        "for i in l1:\n",
        "  print(i)"
      ],
      "metadata": {
        "colab": {
          "base_uri": "https://localhost:8080/"
        },
        "id": "HyWdPfxs8fvJ",
        "outputId": "99051f32-6ed9-493a-f94f-422ce6832597"
      },
      "execution_count": null,
      "outputs": [
        {
          "output_type": "stream",
          "name": "stdout",
          "text": [
            "a\n",
            "b\n",
            "c\n",
            "d\n",
            "e\n",
            "f\n",
            "g\n"
          ]
        }
      ]
    },
    {
      "cell_type": "markdown",
      "source": [
        "while loop - repeat the block of code as long as the condition is true"
      ],
      "metadata": {
        "id": "wbarLCNH_Utl"
      }
    },
    {
      "cell_type": "code",
      "source": [
        "# syntax -\n",
        "# while condition:\n",
        "            # body\n",
        "            # update condition variable"
      ],
      "metadata": {
        "id": "kDPJ-Amc--PQ"
      },
      "execution_count": null,
      "outputs": []
    },
    {
      "cell_type": "code",
      "source": [
        "# count until i get n<=5\n",
        "n=int(input())\n",
        "while (n<=5):\n",
        "  print(n)\n",
        "  n+=1"
      ],
      "metadata": {
        "colab": {
          "base_uri": "https://localhost:8080/"
        },
        "id": "W9dVlKL_CRme",
        "outputId": "29982e1c-8920-4433-9111-63f9aa824c39"
      },
      "execution_count": null,
      "outputs": [
        {
          "output_type": "stream",
          "name": "stdout",
          "text": [
            "3\n",
            "3\n",
            "4\n",
            "5\n"
          ]
        }
      ]
    },
    {
      "cell_type": "code",
      "source": [
        "# w.a.p that will keep asking for a positive num-\n",
        "num = int(input())\n",
        "while(num<=0):\n",
        "  print(\"enter positive number\")\n",
        "  num = int(input())\n",
        "print(\"number is: \",num)\n"
      ],
      "metadata": {
        "colab": {
          "base_uri": "https://localhost:8080/"
        },
        "id": "yn_dp5h7DK-C",
        "outputId": "c124550d-aca2-4931-9094-f34d4148f0be"
      },
      "execution_count": null,
      "outputs": [
        {
          "output_type": "stream",
          "name": "stdout",
          "text": [
            "-4\n",
            "enter positive number\n",
            "-6\n",
            "enter positive number\n",
            "5\n",
            "number is:  5\n"
          ]
        }
      ]
    },
    {
      "cell_type": "code",
      "source": [
        "# control statements -\n",
        "# break - terminate the program\n",
        "for i in range(1,11):\n",
        "  if(i==5):\n",
        "    break\n",
        "  print(i)\n"
      ],
      "metadata": {
        "colab": {
          "base_uri": "https://localhost:8080/"
        },
        "id": "3J01l709HRDc",
        "outputId": "669bc572-1f83-4218-8f58-e976b868f61c"
      },
      "execution_count": null,
      "outputs": [
        {
          "output_type": "stream",
          "name": "stdout",
          "text": [
            "1\n",
            "2\n",
            "3\n",
            "4\n"
          ]
        }
      ]
    },
    {
      "cell_type": "code",
      "source": [
        "# continue - skip the value and continue to next\n",
        "for i in range(1,11):\n",
        "  if(i==5):\n",
        "    continue\n",
        "  print(i)"
      ],
      "metadata": {
        "colab": {
          "base_uri": "https://localhost:8080/"
        },
        "id": "peCrl-ppLyDE",
        "outputId": "b9f24447-f08c-4f1e-cf37-3728fe6d49ab"
      },
      "execution_count": null,
      "outputs": [
        {
          "output_type": "stream",
          "name": "stdout",
          "text": [
            "1\n",
            "2\n",
            "3\n",
            "4\n",
            "6\n",
            "7\n",
            "8\n",
            "9\n",
            "10\n"
          ]
        }
      ]
    },
    {
      "cell_type": "code",
      "source": [
        "for i in range(1,11):\n",
        "  if(i==7):\n",
        "    break\n",
        "  print(i)"
      ],
      "metadata": {
        "colab": {
          "base_uri": "https://localhost:8080/"
        },
        "id": "4G6oNvXKMUu9",
        "outputId": "47022f34-2a02-40dd-9ecf-5adf800d6731"
      },
      "execution_count": null,
      "outputs": [
        {
          "output_type": "stream",
          "name": "stdout",
          "text": [
            "1\n",
            "2\n",
            "3\n",
            "4\n",
            "5\n",
            "6\n"
          ]
        }
      ]
    },
    {
      "cell_type": "code",
      "source": [
        "while True:\n",
        "    print(2)\n",
        "    if True:\n",
        "        break\n",
        "print(2)"
      ],
      "metadata": {
        "colab": {
          "base_uri": "https://localhost:8080/"
        },
        "id": "j2HJeeiTM6mT",
        "outputId": "de6cf517-3782-41f6-98cc-980d2b283e7d"
      },
      "execution_count": null,
      "outputs": [
        {
          "output_type": "stream",
          "name": "stdout",
          "text": [
            "2\n",
            "2\n"
          ]
        }
      ]
    },
    {
      "cell_type": "code",
      "source": [
        "# print the numbers from 1 to 15 and once you get  10 dont print anything\n",
        "# print the number from 3 to 10 and once you get 7 skip that number"
      ],
      "metadata": {
        "id": "Ptdl7PENNOzN"
      },
      "execution_count": null,
      "outputs": []
    },
    {
      "cell_type": "code",
      "source": [
        "for i in range(1,16):\n",
        "  if(i==10):\n",
        "    break\n",
        "  print(i)"
      ],
      "metadata": {
        "colab": {
          "base_uri": "https://localhost:8080/"
        },
        "id": "cI6o-VEvPQab",
        "outputId": "8a0b5d3f-c1bb-4071-95f7-c34e6fccf4ea"
      },
      "execution_count": null,
      "outputs": [
        {
          "output_type": "stream",
          "name": "stdout",
          "text": [
            "1\n",
            "2\n",
            "3\n",
            "4\n",
            "5\n",
            "6\n",
            "7\n",
            "8\n",
            "9\n"
          ]
        }
      ]
    },
    {
      "cell_type": "code",
      "source": [
        "for i in range(3,10):\n",
        "  if(i==7):\n",
        "    continue\n",
        "  print(i)"
      ],
      "metadata": {
        "colab": {
          "base_uri": "https://localhost:8080/"
        },
        "id": "PCIgVzJMPZZX",
        "outputId": "e44c1b87-03a8-48bf-aad1-88692e3d5834"
      },
      "execution_count": null,
      "outputs": [
        {
          "output_type": "stream",
          "name": "stdout",
          "text": [
            "3\n",
            "4\n",
            "5\n",
            "6\n",
            "8\n",
            "9\n"
          ]
        }
      ]
    },
    {
      "cell_type": "code",
      "source": [
        "# take your input one string and write a program that will repeatly ask user to enter\n",
        "# correct string until the user is oing to eneter delhi"
      ],
      "metadata": {
        "id": "MVSi5q1DO4ja"
      },
      "execution_count": null,
      "outputs": []
    },
    {
      "cell_type": "code",
      "source": [
        "\n",
        "num = int(input())\n",
        "while(num<=0):\n",
        "  print(\"enter positive number\")\n",
        "  num = int(input())\n",
        "\n",
        "  if(num>=0):\n",
        "    break\n",
        "print(\"number is: \",num)\n"
      ],
      "metadata": {
        "id": "oCbHvnWAQiiK",
        "colab": {
          "base_uri": "https://localhost:8080/"
        },
        "outputId": "893bf1cb-780d-4864-ca5b-9d1981ec1cdb"
      },
      "execution_count": null,
      "outputs": [
        {
          "output_type": "stream",
          "name": "stdout",
          "text": [
            "2\n",
            "number is:  2\n"
          ]
        }
      ]
    },
    {
      "cell_type": "code",
      "source": [
        "#pass is just used for error removing\n",
        "for i in range(1, 11):\n",
        "  pass"
      ],
      "metadata": {
        "id": "oKt1b2SjHMxl"
      },
      "execution_count": null,
      "outputs": []
    },
    {
      "cell_type": "code",
      "source": [
        "# loop through a list and stop if \"banana\" is found\n",
        "l1 = ['apple','guvava','papaya','watermelon','banana','grapes','berries']\n",
        "if l1 == 'banana':\n",
        "  pass\n",
        "print('banana is found')\n"
      ],
      "metadata": {
        "colab": {
          "base_uri": "https://localhost:8080/"
        },
        "id": "AQ_AT9SFIJL4",
        "outputId": "61533bec-3f34-4fa3-f2cb-4ed1ff440541"
      },
      "execution_count": null,
      "outputs": [
        {
          "output_type": "stream",
          "name": "stdout",
          "text": [
            "banana is found\n"
          ]
        }
      ]
    },
    {
      "cell_type": "code",
      "source": [
        "# print only even numbers from 1 to 10 using continue\n",
        "\n",
        "for i in range(1, 10):\n",
        "  if(i%2 != 0):\n",
        "    continue\n",
        "  print(i)"
      ],
      "metadata": {
        "colab": {
          "base_uri": "https://localhost:8080/"
        },
        "id": "PSY4uDR7JFNq",
        "outputId": "2f76c0d4-fc3b-4e14-8807-767cb9ee8064"
      },
      "execution_count": null,
      "outputs": [
        {
          "output_type": "stream",
          "name": "stdout",
          "text": [
            "2\n",
            "4\n",
            "6\n",
            "8\n"
          ]
        }
      ]
    }
  ]
}